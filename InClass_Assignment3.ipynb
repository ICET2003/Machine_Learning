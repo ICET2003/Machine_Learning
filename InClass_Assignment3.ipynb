{
 "cells": [
  {
   "cell_type": "raw",
   "id": "36143d6c-0692-4111-9aac-1746f531fe10",
   "metadata": {},
   "source": [
    "---\n",
    "title: \"In-Class Assignment 3\"\n",
    "format: \n",
    "  html:\n",
    "    toc: true\n",
    "    toc-title: Contents\n",
    "    toc-depth: 4\n",
    "    code-fold: show\n",
    "    embed-resources: true\n",
    "    html-math-method: mathml \n",
    "jupyter: python3\n",
    "---"
   ]
  },
  {
   "cell_type": "markdown",
   "id": "83da7432-9cc4-43e2-8d84-6a54f09cb810",
   "metadata": {},
   "source": [
    "**Instructions:**\n",
    "\n",
    "- For questions that require coding, you need to write the relevant code and display its output. Your output should either be the direct answer to the question or clearly display the answer in it.\n",
    "- For questions that require a written answer (sometimes along with the code), you need to put your answer in a Markdown cell. Writing the answer as a comment or as a print line is not acceptable.\n",
    "- You need to render this file as HTML using Quarto and submit the HTML file. **Please note that this is a requirement and not optional.** A submission cannot be graded until it is properly rendered."
   ]
  },
  {
   "cell_type": "markdown",
   "id": "2cd3c793-3f50-40fd-85c3-1e50855542c7",
   "metadata": {},
   "source": [
    "Import all the libraries and tools you need below."
   ]
  },
  {
   "cell_type": "code",
   "execution_count": 9,
   "id": "d1e6d638-54b5-4f95-a05d-9f7a57dbdd5d",
   "metadata": {},
   "outputs": [],
   "source": [
    "import numpy as np\n",
    "import pandas as pd\n",
    "import matplotlib.pyplot as plt\n",
    "\n",
    "from sklearn.linear_model import LinearRegression, LogisticRegression, Lasso, Ridge\n",
    "from sklearn.preprocessing import StandardScaler, Normalizer, MinMaxScaler, RobustScaler\n",
    "from sklearn.metrics import mean_squared_error, mean_absolute_error, accuracy_score, recall_score, precision_score\n",
    "from sklearn.model_selection import train_test_split"
   ]
  },
  {
   "cell_type": "markdown",
   "id": "7b2d4caf-4479-49e8-8d08-d8302d5be88e",
   "metadata": {},
   "source": [
    "## 1)\n",
    "\n",
    "Copy the `initialize`, `predict` and `calc_cost_gradient` functions you wrote in the two previous assignments here. **(1 point)**"
   ]
  },
  {
   "cell_type": "code",
   "execution_count": 51,
   "id": "0c833b33",
   "metadata": {},
   "outputs": [],
   "source": [
    "# Initialize function\n",
    "def initialize(dim):\n",
    "    # Create the vector of random numbers v, from uniform dist\n",
    "    v = np.random.rand(dim + 1)\n",
    "    return v\n",
    "\n",
    "# Predict function\n",
    "def predict(model_params, X_test):\n",
    "    # Add 1 to toy_data\n",
    "    toy_data_with_intercept = np.c_[np.ones(X_test.shape[0]), X_test]\n",
    "    # Apply dot product to calculate the prediction\n",
    "    prediction = np.dot(toy_data_with_intercept, model_params)\n",
    "    return prediction\n",
    "\n",
    "# calc_cost_gradient function\n",
    "def calc_cost_gradient(model_params, X_train, y_train):\n",
    "    # Predict the y value generated through model parameters (y hat)\n",
    "    y_train_prediction = predict(model_params, X_train)\n",
    "    # Force y_train to numpy array\n",
    "    y_train = np.array(y_train)\n",
    "    # Calculate the mean square error\n",
    "    mse_cost_array =((y_train - y_train_prediction) ** 2)/np.size(y_train)\n",
    "    # Sum the error created by each observation\n",
    "    mse_cost = sum(mse_cost_array)\n",
    "    # Next, calculate the gradient\n",
    "    # Add 1 to X_train\n",
    "    X_train_with_intercept = np.c_[np.ones(X_train.shape[0]), X_train]\n",
    "    # Calculate gradient based on in-class derivation\n",
    "    mse_gradient = (y_train - y_train_prediction) @ X_train_with_intercept * (-2/np.size(y_train))\n",
    "    print(f\"cost: {mse_cost}\"), print(f\"gradient: w0: {mse_gradient[0]}; w1, w2: {mse_gradient[1], mse_gradient[2]} \")\n",
    "    return mse_cost, mse_gradient\n",
    "\n",
    "\n",
    "\n",
    "\n"
   ]
  },
  {
   "cell_type": "markdown",
   "id": "cf676c5b-fbdf-4583-920c-6766c5621697",
   "metadata": {},
   "source": [
    "## 2)\n",
    "\n",
    "Before completing and training the Linear Regression model, you need to preprocess the data you will use."
   ]
  },
  {
   "cell_type": "markdown",
   "id": "5d0e723c-bfa9-4300-92d7-b4ba28944ce7",
   "metadata": {},
   "source": [
    "### a)\n",
    "\n",
    "Read **Life_Exp_Data.csv**. The first column should be read as the index. Print the first 5 rows. **(2 points)**\n",
    "\n",
    "Each observation represents a country and a year (e.g. U.S. in 2008). The task is to predict the `Life expectancy ` using all the other variables as predictors. "
   ]
  },
  {
   "cell_type": "code",
   "execution_count": 52,
   "id": "44956598",
   "metadata": {},
   "outputs": [
    {
     "data": {
      "text/html": [
       "<div>\n",
       "<style scoped>\n",
       "    .dataframe tbody tr th:only-of-type {\n",
       "        vertical-align: middle;\n",
       "    }\n",
       "\n",
       "    .dataframe tbody tr th {\n",
       "        vertical-align: top;\n",
       "    }\n",
       "\n",
       "    .dataframe thead th {\n",
       "        text-align: right;\n",
       "    }\n",
       "</style>\n",
       "<table border=\"1\" class=\"dataframe\">\n",
       "  <thead>\n",
       "    <tr style=\"text-align: right;\">\n",
       "      <th></th>\n",
       "      <th>Life expectancy</th>\n",
       "      <th>Adult Mortality</th>\n",
       "      <th>infant deaths</th>\n",
       "      <th>Alcohol</th>\n",
       "      <th>percentage expenditure</th>\n",
       "      <th>Hepatitis B</th>\n",
       "      <th>Measles</th>\n",
       "      <th>BMI</th>\n",
       "      <th>under-five deaths</th>\n",
       "      <th>Polio</th>\n",
       "      <th>Total expenditure</th>\n",
       "      <th>Diphtheria</th>\n",
       "      <th>HIV/AIDS</th>\n",
       "      <th>GDP</th>\n",
       "      <th>Population</th>\n",
       "      <th>thinness  1-19 years</th>\n",
       "      <th>thinness 5-9 years</th>\n",
       "      <th>Income composition of resources</th>\n",
       "      <th>Schooling</th>\n",
       "    </tr>\n",
       "  </thead>\n",
       "  <tbody>\n",
       "    <tr>\n",
       "      <th>0</th>\n",
       "      <td>65.0</td>\n",
       "      <td>263.0</td>\n",
       "      <td>62.0</td>\n",
       "      <td>0.01</td>\n",
       "      <td>71.279624</td>\n",
       "      <td>65.0</td>\n",
       "      <td>1154.0</td>\n",
       "      <td>19.1</td>\n",
       "      <td>83.0</td>\n",
       "      <td>6.0</td>\n",
       "      <td>8.16</td>\n",
       "      <td>65.0</td>\n",
       "      <td>0.1</td>\n",
       "      <td>584.259210</td>\n",
       "      <td>33736494.0</td>\n",
       "      <td>17.2</td>\n",
       "      <td>17.3</td>\n",
       "      <td>0.479</td>\n",
       "      <td>10.1</td>\n",
       "    </tr>\n",
       "    <tr>\n",
       "      <th>1</th>\n",
       "      <td>59.9</td>\n",
       "      <td>271.0</td>\n",
       "      <td>64.0</td>\n",
       "      <td>0.01</td>\n",
       "      <td>73.523582</td>\n",
       "      <td>62.0</td>\n",
       "      <td>492.0</td>\n",
       "      <td>18.6</td>\n",
       "      <td>86.0</td>\n",
       "      <td>58.0</td>\n",
       "      <td>8.18</td>\n",
       "      <td>62.0</td>\n",
       "      <td>0.1</td>\n",
       "      <td>612.696514</td>\n",
       "      <td>327582.0</td>\n",
       "      <td>17.5</td>\n",
       "      <td>17.5</td>\n",
       "      <td>0.476</td>\n",
       "      <td>10.0</td>\n",
       "    </tr>\n",
       "    <tr>\n",
       "      <th>2</th>\n",
       "      <td>59.9</td>\n",
       "      <td>268.0</td>\n",
       "      <td>66.0</td>\n",
       "      <td>0.01</td>\n",
       "      <td>73.219243</td>\n",
       "      <td>64.0</td>\n",
       "      <td>430.0</td>\n",
       "      <td>18.1</td>\n",
       "      <td>89.0</td>\n",
       "      <td>62.0</td>\n",
       "      <td>8.13</td>\n",
       "      <td>64.0</td>\n",
       "      <td>0.1</td>\n",
       "      <td>631.744976</td>\n",
       "      <td>31731688.0</td>\n",
       "      <td>17.7</td>\n",
       "      <td>17.7</td>\n",
       "      <td>0.470</td>\n",
       "      <td>9.9</td>\n",
       "    </tr>\n",
       "    <tr>\n",
       "      <th>3</th>\n",
       "      <td>59.5</td>\n",
       "      <td>272.0</td>\n",
       "      <td>69.0</td>\n",
       "      <td>0.01</td>\n",
       "      <td>78.184215</td>\n",
       "      <td>67.0</td>\n",
       "      <td>2787.0</td>\n",
       "      <td>17.6</td>\n",
       "      <td>93.0</td>\n",
       "      <td>67.0</td>\n",
       "      <td>8.52</td>\n",
       "      <td>67.0</td>\n",
       "      <td>0.1</td>\n",
       "      <td>669.959000</td>\n",
       "      <td>3696958.0</td>\n",
       "      <td>17.9</td>\n",
       "      <td>18.0</td>\n",
       "      <td>0.463</td>\n",
       "      <td>9.8</td>\n",
       "    </tr>\n",
       "    <tr>\n",
       "      <th>4</th>\n",
       "      <td>59.2</td>\n",
       "      <td>275.0</td>\n",
       "      <td>71.0</td>\n",
       "      <td>0.01</td>\n",
       "      <td>7.097109</td>\n",
       "      <td>68.0</td>\n",
       "      <td>3013.0</td>\n",
       "      <td>17.2</td>\n",
       "      <td>97.0</td>\n",
       "      <td>68.0</td>\n",
       "      <td>7.87</td>\n",
       "      <td>68.0</td>\n",
       "      <td>0.1</td>\n",
       "      <td>63.537231</td>\n",
       "      <td>2978599.0</td>\n",
       "      <td>18.2</td>\n",
       "      <td>18.2</td>\n",
       "      <td>0.454</td>\n",
       "      <td>9.5</td>\n",
       "    </tr>\n",
       "  </tbody>\n",
       "</table>\n",
       "</div>"
      ],
      "text/plain": [
       "   Life expectancy   ...  Schooling\n",
       "0              65.0  ...       10.1\n",
       "1              59.9  ...       10.0\n",
       "2              59.9  ...        9.9\n",
       "3              59.5  ...        9.8\n",
       "4              59.2  ...        9.5\n",
       "\n",
       "[5 rows x 19 columns]"
      ]
     },
     "execution_count": 52,
     "metadata": {},
     "output_type": "execute_result"
    }
   ],
   "source": [
    "# Read the data\n",
    "life_expectancy = pd.read_csv('Life_Exp_Data.csv', index_col= 0)\n",
    "# Print first five rows\n",
    "life_expectancy.head()\n"
   ]
  },
  {
   "cell_type": "markdown",
   "id": "39409095-9fb5-4678-84bd-bccc15453cfa",
   "metadata": {},
   "source": [
    "### b)\n",
    "\n",
    "Split the data into training and test sets with a 80%-20% ratio. Use `random_state=42` for reproducible results. \n",
    "\n",
    "Note that in order to create the training and test sets, you first need to separate the predictors and the response into two variables, so you can use them as proper inputs.\n",
    "\n",
    "**(2 points)**"
   ]
  },
  {
   "cell_type": "code",
   "execution_count": 53,
   "id": "3ff2887f",
   "metadata": {},
   "outputs": [],
   "source": [
    "\n",
    "# Split the response and predictors\n",
    "y = life_expectancy['Life expectancy '] # response data\n",
    "X = life_expectancy.drop(['Life expectancy '], axis = 1) # Drop the column response data\n",
    "\n",
    "# Split the data 80/20, set the random state = 42\n",
    "X_train, X_test, y_train, y_test = train_test_split(X, y, test_size = 0.2, random_state = 42)\n"
   ]
  },
  {
   "cell_type": "markdown",
   "id": "fb1db25e-c412-46e8-8176-e1f963af4a35",
   "metadata": {},
   "source": [
    "### c)\n",
    "\n",
    "(Standard) scale the training and test predictors. **(1 point)**"
   ]
  },
  {
   "cell_type": "code",
   "execution_count": 54,
   "id": "92f665f2",
   "metadata": {},
   "outputs": [],
   "source": [
    "# Scale the training and testing predictors (Normalize)\n",
    "scaler = StandardScaler()\n",
    "\n",
    "# Train the scaler with the training data and scale the training data\n",
    "scaler.fit(X_train)\n",
    "\n",
    "# Scale the data\n",
    "X_train_scaled = scaler.transform(X_train)\n",
    "X_test_scaled = scaler.transform(X_test)"
   ]
  },
  {
   "cell_type": "markdown",
   "id": "786e78c1-ccac-40bc-8781-43cee393c790",
   "metadata": {},
   "source": [
    "## 3)\n",
    "\n",
    "Using the sklearn object, create, train, and evaluate a Linear Regression model. Use Mean Absolute Error (MAE) as the evaluation metric. **Round the test MAE to 2 decimal places.** You can use the test MAE to check if your Gradient Descent algorithm runs correctly in the next question. **(4 points)**"
   ]
  },
  {
   "cell_type": "code",
   "execution_count": 55,
   "id": "b970b442",
   "metadata": {},
   "outputs": [
    {
     "name": "stdout",
     "output_type": "stream",
     "text": [
      "MAE: 2.71\n"
     ]
    }
   ],
   "source": [
    "# Set up linear regression model (equivalent to specification in R)\n",
    "lin_reg = LinearRegression()\n",
    "\n",
    "# Fit the lin_reg with training data to get parameters\n",
    "lin_reg.fit(X_train_scaled, y_train)\n",
    "\n",
    "# Predict the result by using testing predictors\n",
    "y_pred = lin_reg.predict(X_test_scaled)\n",
    "\n",
    "# Calculate MAE\n",
    "MAE = mean_absolute_error(y_test, y_pred)\n",
    "\n",
    "# Round MAE to 2 decimal places\n",
    "print(f\"MAE: {MAE:.2f}\")"
   ]
  },
  {
   "cell_type": "markdown",
   "id": "aaba1221-0383-4034-b2ea-beeb41330510",
   "metadata": {},
   "source": [
    "## 4)\n",
    "\n",
    "In this question, you will complete and run a custom Linear Regression model by training it with Gradient Descent."
   ]
  },
  {
   "cell_type": "markdown",
   "id": "2d288000-cf00-4d51-ac80-bf2f81888496",
   "metadata": {},
   "source": [
    "### a)\n",
    "\n",
    "Define a function called `GradientDescent`. This function will implement the Gradient Descent algorithm. It will do this by iteratively updating the input parameters by using the data, the learning rate and the `calc_cost_gradient` function. Please make sure you follow the equations for updating the parameters from the lectures.\n",
    "\n",
    "The function should take five inputs: (1) `model_params`, which are the initial model parameters; (2) `X_train` and (3) `y_train`, which contain the training predictors and responses, respectively; (4) `lr`, which is the learning rate ($\\eta$) in the Gradient Descent algorithm; and (5) `iters`, which is the number of iterations the Gradient Descent algorithm should run for.\n",
    "\n",
    "The function should:\n",
    "\n",
    "- Run the Gradient Descent algorithm.\n",
    "- Print the minimized Mean Squared Error (MSE) cost.\n",
    "- Display a line plot that shows how the cost changes through the iterations.\n",
    "- Return one output, `model_params`, which contains the optimal model parameters. Note that you need to obtain this output by iteratively updating the input with the same name.\n",
    "\n",
    "The Gradient Descent algorithm should run for as many iterations as given in `iters`. Note that this is not the most efficient implementation. This will be fixed in Homework Assignment 1.\n",
    "\n",
    "**(50 points)**"
   ]
  },
  {
   "cell_type": "code",
   "execution_count": 64,
   "id": "9781da75",
   "metadata": {},
   "outputs": [],
   "source": [
    "# Define gradient descent function\n",
    "def GradientDescent(model_params, X_train, y_train, lr, iters):\n",
    "    # Initialize lists to store parameters, gradients, and costs\n",
    "    param_list = [model_params]\n",
    "    mse_cost_list = []\n",
    "\n",
    "    for i in range(iters):  # Iterate for the given number of iterations\n",
    "        # Calculate the mean squared error (mse_cost) and gradients\n",
    "        mse_cost, gradient_array = calc_cost_gradient(param_list[-1], X_train, y_train)\n",
    "        \n",
    "        # Append mse_cost to the list for tracking\n",
    "        mse_cost_list.append(mse_cost)\n",
    "        \n",
    "        # Update parameters using the gradient descent formula\n",
    "        new_params = param_list[-1] - lr * gradient_array\n",
    "        param_list.append(new_params)\n",
    "\n",
    "    # After the loop, calculate the final mse_cost and append to the list\n",
    "    last_mse_cost, _ = calc_cost_gradient(param_list[-1], X_train, y_train)\n",
    "    mse_cost_list.append(last_mse_cost)\n",
    "\n",
    "    # Print the lowest mse cost\n",
    "    min_mse = min(mse_cost_list)\n",
    "    print(f\"Min MSE: {min_mse:.4f}\")\n",
    "\n",
    "    # Plot the MSE cost across iterations\n",
    "    plt.figure(figsize=(10, 6))\n",
    "    plt.plot(range(iters + 1), mse_cost_list)  # Plot MSE cost over iterations\n",
    "    plt.title(\"MSE Cost Over Iterations\")\n",
    "    plt.xlabel(\"Iterations\")\n",
    "    plt.ylabel(\"MSE Cost\")\n",
    "    plt.grid(True)\n",
    "    plt.show()\n",
    "\n",
    "    # Return the final model parameters after gradient descent\n",
    "    return param_list[-1]\n",
    "\n"
   ]
  },
  {
   "cell_type": "markdown",
   "id": "53db467c-e760-4c58-9992-61864bc0af0b",
   "metadata": {},
   "source": [
    "### b)\n",
    "\n",
    "Define a function called `linear_regression`. This is your actual custom model. The function body should include most functions you defined above.\n",
    "\n",
    "The function should: \n",
    "\n",
    "- Take six inputs: `X_train`, `y_train`, `X_test`, `y_test`, `lr`, and `iters`, all of which should be self-explanatory at this point.\n",
    "- Initialize the model parameters.\n",
    "- Run the Gradient Descent algorithm to find the optimal parameters.\n",
    "- Print the final (minimized) MSE cost and visualize how it changes through the iterations.\n",
    "- Predict the test responses.\n",
    "- Evaluate and print the test MAE, rounded to 2 decimal places.\n",
    "- Return the optimal parameters.\n",
    "\n",
    "**The entire function (including the definition and the return lines) should be written in 6 lines of code at most for credit.**\n",
    "\n",
    "**(30 points)**"
   ]
  },
  {
   "cell_type": "code",
   "execution_count": 68,
   "id": "642b4a7e",
   "metadata": {},
   "outputs": [],
   "source": [
    "# Define a function\n",
    "def linear_regression(X_train, y_train, X_test, y_test, lr, iters):\n",
    "    # Initialize model parameters, same size as number of predictors/ columns in X_train, set it up as initial_params\n",
    "    initial_params = initialize(X_train.shape[1])\n",
    "    # Run gradient descent using initial params as an input, save as a list\n",
    "    optimal_params = GradientDescent(initial_params, X_train, y_train, lr, iters)\n",
    "    # Predict the test responses\n",
    "    y_pred = predict(optimal_params, X_test)\n",
    "    # Print the MAE costs, round to two decimal places\n",
    "    print(f\"MAE COST: {mean_absolute_error(y_pred, y_test):.2f}\")\n",
    "    return optimal_params\n"
   ]
  },
  {
   "cell_type": "markdown",
   "id": "e85dfcb1-8b09-4d47-8617-847f1edc5467",
   "metadata": {},
   "source": [
    "### c)\n",
    "\n",
    "Call the `linear_regression` function with the data preprocessed in Question 2. Experiment with the learning rate and the number of iterations to find reasonable values. You need to match the test MAE found in Question 3. **(10 points)**"
   ]
  },
  {
   "cell_type": "code",
   "execution_count": 71,
   "id": "b92bdf76",
   "metadata": {},
   "outputs": [
    {
     "name": "stdout",
     "output_type": "stream",
     "text": [
      "Min MSE: 15.3473\n"
     ]
    },
    {
     "data": {
      "image/png": "[encoded data removed]",
      "text/plain": [
       "<Figure size 1000x600 with 1 Axes>"
      ]
     },
     "metadata": {},
     "output_type": "display_data"
    },
    {
     "name": "stdout",
     "output_type": "stream",
     "text": [
      "MAE COST: 2.71\n"
     ]
    },
    {
     "data": {
      "text/plain": [
       "array([ 6.92902553e+01, -2.26402410e+00,  8.18426635e+00,  1.82311439e-01,\n",
       "        2.32558718e-01, -1.42835335e-01, -2.35406513e-01,  5.81353257e-01,\n",
       "       -8.28873156e+00,  5.60172544e-01,  8.13643666e-02,  7.13246240e-01,\n",
       "       -2.56324643e+00,  5.42429028e-01, -7.63991174e-02, -3.56549077e-01,\n",
       "       -2.73814597e-02,  1.60235331e+00,  2.63438787e+00])"
      ]
     },
     "execution_count": 71,
     "metadata": {},
     "output_type": "execute_result"
    }
   ],
   "source": [
    "# Call the function\n",
    "# Change X_train and y_train back to dataframes\n",
    "X_train = pd.DataFrame(X_train_scaled, columns = X_train.columns)\n",
    "X_test = pd.DataFrame(X_test_scaled, columns = X_test.columns)\n",
    "\n",
    "linear_regression(X_train, y_train, X_test, y_test, 0.05, 5000)"
   ]
  }
 ],
 "metadata": {
  "kernelspec": {
   "display_name": "base",
   "language": "python",
   "name": "python3"
  },
  "language_info": {
   "codemirror_mode": {
    "name": "ipython",
    "version": 3
   },
   "file_extension": ".py",
   "mimetype": "text/x-python",
   "name": "python",
   "nbconvert_exporter": "python",
   "pygments_lexer": "ipython3",
   "version": "3.11.8"
  }
 },
 "nbformat": 4,
 "nbformat_minor": 5
}
