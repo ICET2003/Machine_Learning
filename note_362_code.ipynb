{
 "cells": [
  {
   "cell_type": "markdown",
   "metadata": {},
   "source": [
    "Week 1 (Recap)\n",
    "- Splitting\n",
    "- Cross Validation\n",
    "- Regression and Prediction"
   ]
  },
  {
   "cell_type": "code",
   "execution_count": 1,
   "metadata": {},
   "outputs": [],
   "source": [
    "# Import important libralies\n",
    "import numpy as np\n",
    "import pandas as pd\n",
    "import matplotlib.pyplot as plt\n",
    "import seaborn as sns\n",
    "\n",
    "from sklearn.model_selection import train_test_split\n",
    "from sklearn.preprocessing import StandardScaler\n",
    "from sklearn.linear_model import LogisticRegression, LinearRegression, Lasso, Ridge, ElasticNet\n",
    "from sklearn.metrics import mean_squared_error, r2_score, mean_absolute_error, accuracy_score, recall_score, precision_score, f1_score, confusion_matrix"
   ]
  },
  {
   "cell_type": "code",
   "execution_count": 3,
   "metadata": {},
   "outputs": [
    {
     "data": {
      "text/html": [
       "<div>\n",
       "<style scoped>\n",
       "    .dataframe tbody tr th:only-of-type {\n",
       "        vertical-align: middle;\n",
       "    }\n",
       "\n",
       "    .dataframe tbody tr th {\n",
       "        vertical-align: top;\n",
       "    }\n",
       "\n",
       "    .dataframe thead th {\n",
       "        text-align: right;\n",
       "    }\n",
       "</style>\n",
       "<table border=\"1\" class=\"dataframe\">\n",
       "  <thead>\n",
       "    <tr style=\"text-align: right;\">\n",
       "      <th></th>\n",
       "      <th>Life expectancy</th>\n",
       "      <th>Adult Mortality</th>\n",
       "      <th>infant deaths</th>\n",
       "      <th>Alcohol</th>\n",
       "      <th>percentage expenditure</th>\n",
       "      <th>Hepatitis B</th>\n",
       "      <th>Measles</th>\n",
       "      <th>BMI</th>\n",
       "      <th>under-five deaths</th>\n",
       "      <th>Polio</th>\n",
       "      <th>Total expenditure</th>\n",
       "      <th>Diphtheria</th>\n",
       "      <th>HIV/AIDS</th>\n",
       "      <th>GDP</th>\n",
       "      <th>Population</th>\n",
       "      <th>thinness  1-19 years</th>\n",
       "      <th>thinness 5-9 years</th>\n",
       "      <th>Income composition of resources</th>\n",
       "      <th>Schooling</th>\n",
       "    </tr>\n",
       "  </thead>\n",
       "  <tbody>\n",
       "    <tr>\n",
       "      <th>0</th>\n",
       "      <td>65.0</td>\n",
       "      <td>263.0</td>\n",
       "      <td>62.0</td>\n",
       "      <td>0.01</td>\n",
       "      <td>71.279624</td>\n",
       "      <td>65.0</td>\n",
       "      <td>1154.0</td>\n",
       "      <td>19.1</td>\n",
       "      <td>83.0</td>\n",
       "      <td>6.0</td>\n",
       "      <td>8.16</td>\n",
       "      <td>65.0</td>\n",
       "      <td>0.1</td>\n",
       "      <td>584.259210</td>\n",
       "      <td>33736494.0</td>\n",
       "      <td>17.2</td>\n",
       "      <td>17.3</td>\n",
       "      <td>0.479</td>\n",
       "      <td>10.1</td>\n",
       "    </tr>\n",
       "    <tr>\n",
       "      <th>1</th>\n",
       "      <td>59.9</td>\n",
       "      <td>271.0</td>\n",
       "      <td>64.0</td>\n",
       "      <td>0.01</td>\n",
       "      <td>73.523582</td>\n",
       "      <td>62.0</td>\n",
       "      <td>492.0</td>\n",
       "      <td>18.6</td>\n",
       "      <td>86.0</td>\n",
       "      <td>58.0</td>\n",
       "      <td>8.18</td>\n",
       "      <td>62.0</td>\n",
       "      <td>0.1</td>\n",
       "      <td>612.696514</td>\n",
       "      <td>327582.0</td>\n",
       "      <td>17.5</td>\n",
       "      <td>17.5</td>\n",
       "      <td>0.476</td>\n",
       "      <td>10.0</td>\n",
       "    </tr>\n",
       "    <tr>\n",
       "      <th>2</th>\n",
       "      <td>59.9</td>\n",
       "      <td>268.0</td>\n",
       "      <td>66.0</td>\n",
       "      <td>0.01</td>\n",
       "      <td>73.219243</td>\n",
       "      <td>64.0</td>\n",
       "      <td>430.0</td>\n",
       "      <td>18.1</td>\n",
       "      <td>89.0</td>\n",
       "      <td>62.0</td>\n",
       "      <td>8.13</td>\n",
       "      <td>64.0</td>\n",
       "      <td>0.1</td>\n",
       "      <td>631.744976</td>\n",
       "      <td>31731688.0</td>\n",
       "      <td>17.7</td>\n",
       "      <td>17.7</td>\n",
       "      <td>0.470</td>\n",
       "      <td>9.9</td>\n",
       "    </tr>\n",
       "    <tr>\n",
       "      <th>3</th>\n",
       "      <td>59.5</td>\n",
       "      <td>272.0</td>\n",
       "      <td>69.0</td>\n",
       "      <td>0.01</td>\n",
       "      <td>78.184215</td>\n",
       "      <td>67.0</td>\n",
       "      <td>2787.0</td>\n",
       "      <td>17.6</td>\n",
       "      <td>93.0</td>\n",
       "      <td>67.0</td>\n",
       "      <td>8.52</td>\n",
       "      <td>67.0</td>\n",
       "      <td>0.1</td>\n",
       "      <td>669.959000</td>\n",
       "      <td>3696958.0</td>\n",
       "      <td>17.9</td>\n",
       "      <td>18.0</td>\n",
       "      <td>0.463</td>\n",
       "      <td>9.8</td>\n",
       "    </tr>\n",
       "    <tr>\n",
       "      <th>4</th>\n",
       "      <td>59.2</td>\n",
       "      <td>275.0</td>\n",
       "      <td>71.0</td>\n",
       "      <td>0.01</td>\n",
       "      <td>7.097109</td>\n",
       "      <td>68.0</td>\n",
       "      <td>3013.0</td>\n",
       "      <td>17.2</td>\n",
       "      <td>97.0</td>\n",
       "      <td>68.0</td>\n",
       "      <td>7.87</td>\n",
       "      <td>68.0</td>\n",
       "      <td>0.1</td>\n",
       "      <td>63.537231</td>\n",
       "      <td>2978599.0</td>\n",
       "      <td>18.2</td>\n",
       "      <td>18.2</td>\n",
       "      <td>0.454</td>\n",
       "      <td>9.5</td>\n",
       "    </tr>\n",
       "  </tbody>\n",
       "</table>\n",
       "</div>"
      ],
      "text/plain": [
       "   Life expectancy   Adult Mortality  infant deaths  Alcohol  \\\n",
       "0              65.0            263.0           62.0     0.01   \n",
       "1              59.9            271.0           64.0     0.01   \n",
       "2              59.9            268.0           66.0     0.01   \n",
       "3              59.5            272.0           69.0     0.01   \n",
       "4              59.2            275.0           71.0     0.01   \n",
       "\n",
       "   percentage expenditure  Hepatitis B  Measles    BMI   under-five deaths   \\\n",
       "0               71.279624         65.0    1154.0   19.1                83.0   \n",
       "1               73.523582         62.0     492.0   18.6                86.0   \n",
       "2               73.219243         64.0     430.0   18.1                89.0   \n",
       "3               78.184215         67.0    2787.0   17.6                93.0   \n",
       "4                7.097109         68.0    3013.0   17.2                97.0   \n",
       "\n",
       "   Polio  Total expenditure  Diphtheria    HIV/AIDS         GDP  Population  \\\n",
       "0    6.0               8.16         65.0        0.1  584.259210  33736494.0   \n",
       "1   58.0               8.18         62.0        0.1  612.696514    327582.0   \n",
       "2   62.0               8.13         64.0        0.1  631.744976  31731688.0   \n",
       "3   67.0               8.52         67.0        0.1  669.959000   3696958.0   \n",
       "4   68.0               7.87         68.0        0.1   63.537231   2978599.0   \n",
       "\n",
       "    thinness  1-19 years   thinness 5-9 years  \\\n",
       "0                   17.2                 17.3   \n",
       "1                   17.5                 17.5   \n",
       "2                   17.7                 17.7   \n",
       "3                   17.9                 18.0   \n",
       "4                   18.2                 18.2   \n",
       "\n",
       "   Income composition of resources  Schooling  \n",
       "0                            0.479       10.1  \n",
       "1                            0.476       10.0  \n",
       "2                            0.470        9.9  \n",
       "3                            0.463        9.8  \n",
       "4                            0.454        9.5  "
      ]
     },
     "execution_count": 3,
     "metadata": {},
     "output_type": "execute_result"
    }
   ],
   "source": [
    "# Import and read through the data, dont want index column\n",
    "reg_data = pd.read_csv('Life_Exp_Data.csv', index_col= 0)\n",
    "reg_data.head()"
   ]
  },
  {
   "cell_type": "code",
   "execution_count": 5,
   "metadata": {},
   "outputs": [
    {
     "data": {
      "text/plain": [
       "array([[ 0.44987429,  0.03938534, -1.09827592, ...,  3.03360918,\n",
       "        -0.77457357, -0.78097147],\n",
       "       [-0.26706451, -0.00341293, -0.83000815, ...,  0.00449818,\n",
       "         0.240526  , -0.0329945 ],\n",
       "       [ 0.41765232, -0.26020256, -1.03120898, ..., -1.0500812 ,\n",
       "        -2.93049606,  0.11084722],\n",
       "       ...,\n",
       "       [-0.76650503, -0.26020256,  0.50884671, ..., -0.93789191,\n",
       "         1.42791312,  1.54926447],\n",
       "       [-0.13012115, -0.26020256, -0.79633668, ...,  0.43081751,\n",
       "         0.69685517,  0.91636088],\n",
       "       [ 0.65126159,  0.270496  , -0.71077804, ...,  0.75741301,\n",
       "        -0.78388641, -1.44264341]])"
      ]
     },
     "execution_count": 5,
     "metadata": {},
     "output_type": "execute_result"
    },
    {
     "data": {
      "text/plain": [
       "<Figure size 1000x600 with 0 Axes>"
      ]
     },
     "metadata": {},
     "output_type": "display_data"
    },
    {
     "data": {
      "image/png": "[encoded data removed]",
      "text/plain": [
       "<Figure size 500x500 with 1 Axes>"
      ]
     },
     "metadata": {},
     "output_type": "display_data"
    }
   ],
   "source": [
    "# Separate the resp and the preds\n",
    "y = reg_data['Life expectancy '] # Response => that's how to access the column\n",
    "x = reg_data.drop(['Life expectancy '], axis=1) # Predictors\n",
    "\n",
    "# Look at y distribution\n",
    "plt.figure(figsize=(10, 6))\n",
    "sns.displot(y, kde = True)\n",
    "plt.title('Life Expectancy Distribution')\n",
    "plt.xlabel('Life Expectancy')\n",
    "plt.ylabel('Frequency')\n",
    "\n",
    "# Split the data into training and testing 80/20), set the randomstate from duplication\n",
    "x_train, x_test, y_train, y_test = train_test_split(x, y, test_size=0.2, random_state= 45)\n",
    "\n",
    "# Scale the data (Normalize) => Decrease the influence of each data on other\n",
    "scaler = StandardScaler()\n",
    "# Train the scaler with the training data and scale the training data\n",
    "scaler.fit(x_train)\n",
    "# Transform the train and test data\n",
    "x_train_scaled = scaler.transform(x_train)\n",
    "x_test_scaled = scaler.transform(x_test)\n"
   ]
  },
  {
   "cell_type": "code",
   "execution_count": null,
   "metadata": {},
   "outputs": [],
   "source": [
    "# Creste the model\n",
    "linreg = LinearRegression()\n",
    "\n",
    "# Train the model (Fitting the model, not using even fold or cross validation)\n",
    "linreg.fit(x_train_scaled, y_train) # Using scaled data\n",
    "\n",
    "# Predict the model by fitting the model with testing data\n",
    "y_pred = linreg.predict(x_test_scaled)\n",
    "\n",
    "# optimal coefficients\n",
    "linreg.coef_ #W1 to Wn\n",
    "\n",
    "#Intercept\n",
    "linreg.intercept_ #W0   "
   ]
  },
  {
   "cell_type": "code",
   "execution_count": null,
   "metadata": {},
   "outputs": [],
   "source": [
    "# Evaluate the model performance\n",
    "mse = np.sqrt(mean_squared_error(y_test, y_pred))\n",
    "mae = mean_absolute_error(y_test, y_pred)\n",
    "mse, mae"
   ]
  },
  {
   "cell_type": "code",
   "execution_count": null,
   "metadata": {},
   "outputs": [],
   "source": [
    "# Try with ridge model\n",
    "ridge = Ridge(alpha=10) # Hyperparams come as inputs when the model object is created\n",
    "lasso = Lasso(alpha=10)\n",
    "ridge.fit(x_train_scaled, y_train)\n",
    "ridge.coef_"
   ]
  },
  {
   "cell_type": "markdown",
   "metadata": {},
   "source": [
    "Classification"
   ]
  },
  {
   "cell_type": "code",
   "execution_count": null,
   "metadata": {},
   "outputs": [],
   "source": [
    "# Read data from the datatable\n",
    "cl_data = pd.read_csv('diabetes.csv', index_col= 0)\n",
    "cl_data.head()  "
   ]
  },
  {
   "cell_type": "code",
   "execution_count": null,
   "metadata": {},
   "outputs": [],
   "source": []
  },
  {
   "cell_type": "code",
   "execution_count": 47,
   "metadata": {},
   "outputs": [],
   "source": [
    "# Split the train and test data\n",
    "y = cl_data['Outcome']\n",
    "x = cl_data.drop(['Outcome'], axis=1)\n",
    "\n",
    "x_train, x_test, y_train, y_test = train_test_split(x, y, test_size=0.2, random_state= 45)\n",
    "\n",
    "# Scale the data\n",
    "scaler = StandardScaler()\n",
    "scaler.fit(x_train) # \"Train\" the scaler with the training data\n",
    "x_train_scaled = scaler.transform(x_train) # Scale the train data\n",
    "x_test_scaled = scaler.transform(x_test) # Scale the test data\n",
    "\n"
   ]
  },
  {
   "cell_type": "code",
   "execution_count": null,
   "metadata": {},
   "outputs": [],
   "source": [
    "# Use Logistic Regression for classification\n",
    "# Equivalent to create spec, workflow, hyperparams setup in R\n",
    "logreg = LogisticRegression(penalty= None) # Penalty = None for unreg. Log. Reg.\n",
    "\n",
    "logreg.fit(x_train_scaled, y_train) # Train the model\n",
    "\n",
    "y_pred = logreg.predict(x_test_scaled) # Predict the model, 0.5 is a default threshold\n",
    "print(y_pred)\n",
    "print(y_test)\n",
    "# Evaluate the model\n",
    "\n",
    "accuracy = accuracy_score(y_test, y_pred)\n",
    "print(accuracy)\n",
    "print(recall_score(y_test, y_pred))\n",
    "print(confusion_matrix(y_test, y_pred))"
   ]
  },
  {
   "cell_type": "code",
   "execution_count": null,
   "metadata": {},
   "outputs": [],
   "source": [
    "y_pred_probs = logreg.predict_proba(x_test_scaled) # Getting the pred. prob.s instead\n",
    "print(y_pred_probs)\n",
    "\n",
    "\n",
    "# Using 0.3 as threshold\n",
    "y_pred2 = y_pred_probs[:,1] > 0.3\n",
    "print(y_pred2)\n",
    "\n",
    "# Using 0.7 as threshold\n",
    "y_pred3 = y_pred_probs[:,1] > 0.7\n",
    "print(y_pred3)\n",
    "# Try the metrics with y_pred2 and y_pred3\n",
    "print(confusion_matrix(y_test, y_pred2))"
   ]
  },
  {
   "cell_type": "markdown",
   "metadata": {},
   "source": [
    "*** Week 2 (Gradient Descent Regression)"
   ]
  },
  {
   "cell_type": "markdown",
   "metadata": {},
   "source": [
    "Linear Regression\n",
    "-  y = $w_{0}$ + $w_{1}x_{1}$ + $w_{2}x_{2}$ + ... + $w_{N}x_{N}$\n",
    "\n",
    "where\n",
    "- $x_{1}, x_{2}, x_{3},...,x_{N}$ are predictors\n",
    "- $w_{0}, w_{1}, w_{2},...,w_{N}$ are the parameters\n",
    "\n",
    "Training model = finding optimal parameters denoted as $\\hat{w_{0}}, \\hat{w_{1}}, ..., \\hat{w_{n}}$"
   ]
  },
  {
   "cell_type": "markdown",
   "metadata": {},
   "source": [
    "Linear Regression - Cost Function\n",
    "How do we find the optimal parameters?\n",
    "- Start by calculating a cost function.\n",
    "- The cost function should be in terms of the data (𝑥 and 𝑦)\n",
    "and the parameters (𝑤’s)\n",
    "- For Linear Regression, the cost function is called the Mean\n",
    "Squared Error (MSE) cost.\n",
    "\n",
    "Assume that we have data with M observations\n",
    "- For the $i^{th}$ observation, we have:\n",
    "    - A true response (y)\n",
    "    - A predicted response ($\\hat{y}$)\n",
    "    - The error made by $i^{th}$ observation is $e_{i}$ = $y - \\hat{y}$\n",
    "- To find MSE cost of the regression model, find all es \n",
    "- Take the square of all errors\n",
    "- Takes the average\n",
    "\n",
    "Finally we have MSE = $\\frac{1}{M}\\sum_{i=1}^M (e_{i})^{2}$\n",
    "                    = $\\frac{1}{M}\\sum_{i=1}^M (y_{i} - \\hat{y_{i}})^{2}$\n",
    "                    = $\\frac{1}{M}\\sum_{i=1}^M (y_{i} - \\hat{w_{0}} - \\hat{w_{1}}x_{1} - \\hat{w_{2}}x_{2} - ... - \\hat{w_{N}}x_{N})^{2}$\n",
    "\n",
    "\n",
    "A much shorter way can be written through the vector w containing all $w_{i}$ and $x^{(i)}$ of observations.\n",
    "\n",
    "Then MSE = $\\frac{1}{M}\\sum_{i=1}^M (y_{i} - w^{T}x^i)^{2}$\n",
    "\n",
    "So training linear regression means \n",
    "- optimizing parameters to achieve the lowest MSE\n",
    "\n",
    "How do we minimize MSE?\n",
    "- Write the data and the parameters in a matrix-vector equation (X𝐰 = 𝐲) and solve for 𝐰.\n",
    "    - This returns a closed form (algebraic) solution for the optimal parameters.\n",
    "    - Only possible for Linear Regression and not useful for big data – not covered in this class\n",
    "- Start with random values and iteratively converge to the optimum 𝐰 by taking gradients.\n",
    "    - This is called Gradient Descent: A numeric method to optimize a function.\n",
    "        - Numeric methods find “close enough” solutions instead of algebraic ones.\n",
    "    - Applicable to any cost function (This will be very useful for Logistic Regression and Neural\n",
    "    Networks.)\n",
    "    - Very efficient with big data"
   ]
  },
  {
   "cell_type": "markdown",
   "metadata": {},
   "source": [
    "Gradient Descent - Algorithm for training a model\n",
    "To start with, note that:\n",
    "• The 𝒙(𝑖)s and 𝑦 𝑖 s are the data that we have – they are constant values.\n",
    "• The 𝒘 vector has the only variables of the MSE cost function.\n",
    "So, we can express the function as:\n",
    "\n",
    "Then MSE = $\\frac{1}{M}\\sum_{i=1}^M (y_{i} - w^{T}x^{i})^{2}$\n",
    "\n"
   ]
  },
  {
   "cell_type": "code",
   "execution_count": null,
   "metadata": {},
   "outputs": [],
   "source": [
    "# This part is missing (6 slides)"
   ]
  },
  {
   "cell_type": "markdown",
   "metadata": {},
   "source": [
    "#### Derive MSE\n",
    "MSE =  $\\frac{1}{M}\\sum_{i=1}^M (y_{i} - w^{T}x^i)^{2}$\n",
    "\n",
    "We will find $\\frac{\\partial MSE}{\\partial w_{j}}$.\n",
    "\n",
    "For j = 0, $w_{0}$:\n",
    "\n",
    "$\\frac{\\partial MSE}{\\partial w_{j}}$ = -$\\frac{2}{M}\\sum_{i=1}^{M}(y_{i} - w^{T}x^i)$\n",
    "\n",
    "For j = 1,2,3,...,N, $w_{1}, w_{2},...,w_{N}$:\n",
    "\n",
    "$\\frac{\\partial MSE}{\\partial w_{j}}$ = -$\\frac{2}{M}\\sum_{i=1}^{M}(y_{i} - w^{T}x^i)(x_j^i)$\n",
    "\n",
    "Then $\\triangledown MSE$ = \n"
   ]
  },
  {
   "cell_type": "markdown",
   "metadata": {},
   "source": [
    "**More on Gradient Descent**"
   ]
  },
  {
   "cell_type": "markdown",
   "metadata": {},
   "source": [
    "Ridge Regression\n",
    "- A Linear Model Regression can be turned to Ridge model by adding penalty term (Square of paramemeters)\n",
    "\n",
    "    $Ridge Cost$ = $\\frac{1}{M}\\sum_{i=1}^M (y_{i} - w^{T}x^i)^{2}$ + $\\lambda||w||_{2}^2$\n",
    "\n",
    "- Added $||w||^2$ term is called the ridge penalty term\n",
    "- The penalty term is multiplied with a value that determines the magnitude of penalty\n",
    "- Avoid overfitting\n",
    "- The ridge cost can be minimized algebraically and gradient descent way"
   ]
  },
  {
   "cell_type": "markdown",
   "metadata": {},
   "source": [
    "Lasso Regression\n",
    "- Another **regularized version** for linear regression\n",
    "\n",
    "    $Lasso Cost$ = $\\frac{1}{M}\\sum_{i=1}^M (y_{i} - w^{T}x^i)^{2}$ + $\\lambda||w||_{1}$\n",
    "- Just like ridge, adding $||w||$ to the MSE cost\n",
    "- Lasso does not have an obvious advantage on Ridge (Just different method of regularization)\n",
    "- The only **extra usage of Lasso** is that takes some parameter valuyes (of the trained model) to zero, so it       implements feature selection.\n",
    "- Gradient descent cannot be directly applied to Lasso Cost (HW 1)\n",
    "- Extensions of model: Subgradient\n"
   ]
  },
  {
   "cell_type": "markdown",
   "metadata": {},
   "source": [
    "**Elastic Net**\n",
    "- Adding both L2 and L1 penalties to the MSE cost.\n",
    "- The model is called elastic net regression\n",
    "\n",
    "    $ElasticNet Cost$ = $\\frac{1}{M}\\sum_{i=1}^M (y_{i} - w^{T}x^i)^{2}$ + $\\lambda_{1}||w||_{1}$ + $\\lambda_{2}||w||_{2}^2$\n",
    "- Elastic Net is at least as good as Lasso/Ridge \n",
    "- Gradient Descent cannot be directly applied\n",
    "- Algebraic regression is also an option\n"
   ]
  },
  {
   "cell_type": "markdown",
   "metadata": {},
   "source": [
    "**Logistic Regression**\n",
    "\n",
    "Remember the formula of a logistic regression model\n",
    "\n",
    "$Pr(y = 1| x) = \\sigma(w^T x)$\n",
    "\n",
    "In this formula:\n",
    "- $𝑦_𝑖$ s are 0s and 1s.\n",
    "- There is a sigmoid function involved.\n",
    "- This is not a convex function anymore!\n",
    "- It cannot be solved algebraically and Gradient Descent will be **very inefficient**.\n",
    "\n",
    "\n",
    "$\\sigma$ denotes sigmoid function.\n",
    "\n",
    "$MSE (w) = \\frac{1}{M}\\sum_{i=1}^M(y^i-\\sigma(w^T x^i))^2$\n",
    "\n",
    "- The shape of regression is not conves and does not look good\n",
    "\n",
    "- We need another cost function for this logistic regression\n",
    "\n",
    "- The proper cost function should be binary cross-entropy (BCE)\n",
    "\n",
    "$BCE = -\\frac{1}{M}\\sum_{i = 1}^M y^i \\log(\\sigma(w^T x^i)) + (1 - y^i)\\log(1 - \\sigma(w^T x^i))$\n",
    "\n",
    "Note that in this function:\n",
    "- $𝑦^(𝑖)s$ are the true responses\n",
    "- $\\sigma(𝒘^𝑇 𝒙^𝑖)$ s are the model outputs.\n",
    "- The model outputs are always between 0 and 1.\n",
    "\n"
   ]
  },
  {
   "cell_type": "markdown",
   "metadata": {},
   "source": [
    "**Derivation of Sigmoid Function**\n",
    "\n",
    "$\\sigma(x) = \\frac{1}{1 + e^{-x}}$\n",
    "\n",
    "Derivative of $\\sigma(x)$  = $(1 + e^{-x})^{-2} e^{-x}$\n",
    "\n",
    "Then we have $\\sigma'(x)$ = $\\sigma(x)(1 - \\sigma(x))$\n",
    "\n",
    "$\\frac{dlogf(x)}{dx} = \\frac{f'(x)}{f(x)}$\n",
    "\n"
   ]
  },
  {
   "cell_type": "markdown",
   "metadata": {},
   "source": []
  },
  {
   "cell_type": "markdown",
   "metadata": {},
   "source": [
    "Final Note on Logistyic Regression\n",
    "- For multi-class classification, the binary cross-entropy"
   ]
  },
  {
   "cell_type": "markdown",
   "metadata": {},
   "source": [
    "**Scaling for Gradient Descent**\n",
    "- Why is scaling important for linear or logistic regression?: The distorted magnitude leads to"
   ]
  },
  {
   "cell_type": "markdown",
   "metadata": {},
   "source": [
    "The most famous parametric models are usually:\n",
    "- Linear/Logistic Regression, because of their interpretability.\n",
    "- Neural Networks, because of their predictive power.\n",
    "- Linear/Logistic Regression is trained with Gradient Descent.\n",
    "- Neural Networks are trained with backpropagation, which is based on the\n",
    "idea of Gradient Descent.\n",
    "There is, however, another parametric model that is:\n",
    "- Applicable to both regression and classification.\n",
    "- Trained in an entirely different way.\n",
    "- Famous for an entirely different reason, called “large margin”.\n",
    "Before"
   ]
  },
  {
   "cell_type": "markdown",
   "metadata": {},
   "source": [
    "SVM – Motivation\n",
    "\n",
    "From a Logistic Regression perspective, is there any\n",
    "difference between the possible lines that classify\n",
    "the data perfectly?\n",
    "- No! As long as the cost function is minimized,\n",
    "the Gradient Descent algorithm will converge to\n",
    "one of the lines.\n",
    "- Then it will stop.\n",
    "- Depending on the initialization, learning rate,\n",
    "etc., it can converge to any line that classifies the\n",
    "data perfectly.\n",
    "- In other words, Logistic Regression does not\n",
    "care about the line with the largest distance to\n",
    "both classes; it just finds one of the best\n",
    "possible lines.\n"
   ]
  },
  {
   "cell_type": "code",
   "execution_count": null,
   "metadata": {},
   "outputs": [],
   "source": [
    "from sklearn.svm import SVC, SVR, LinearSVC, LinearSVR\n"
   ]
  },
  {
   "cell_type": "markdown",
   "metadata": {},
   "source": [
    "#### Note on SVMs"
   ]
  },
  {
   "cell_type": "code",
   "execution_count": null,
   "metadata": {},
   "outputs": [],
   "source": [
    "# Training and evaluation are like any other sklearn model\n",
    "\n",
    "# Linear kernel is also the default - means linear SVM\n",
    "# For linear.SVM, C is the only hyperparam (C = 1/ lambda)\n",
    "\n",
    "# Non-linear kernalized version of SVM have either rbf or poly\n",
    "# Also has C as a first hyperparameters\n",
    "# For rbf, there is gamma\n",
    "# For poly, there is degree\n",
    "\n",
    "SVC(kernel = 'linear', C = 0.1)\n",
    "SVC(kernel = 'rbf', C = 0.1, gamma = ...)\n",
    "SVC(kernel = 'poly', C = 0.1, gamma = ...)"
   ]
  },
  {
   "cell_type": "markdown",
   "metadata": {},
   "source": [
    "#### Note on Cross Validation"
   ]
  },
  {
   "cell_type": "code",
   "execution_count": null,
   "metadata": {},
   "outputs": [],
   "source": [
    "# To tune any model, you need to use searchCV object\n",
    "\n",
    "# Create the model (Excluding hyperparams that you want to tune)\n",
    "\n",
    "en = ElasticNet(random_state=2)\n"
   ]
  }
 ],
 "metadata": {
  "kernelspec": {
   "display_name": "base",
   "language": "python",
   "name": "python3"
  },
  "language_info": {
   "codemirror_mode": {
    "name": "ipython",
    "version": 3
   },
   "file_extension": ".py",
   "mimetype": "text/x-python",
   "name": "python",
   "nbconvert_exporter": "python",
   "pygments_lexer": "ipython3",
   "version": "3.11.11"
  }
 },
 "nbformat": 4,
 "nbformat_minor": 2
}
