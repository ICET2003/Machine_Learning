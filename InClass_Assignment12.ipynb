{
 "cells": [
  {
   "cell_type": "raw",
   "id": "7d62f415-ef46-4eac-84fe-20ac4c753909",
   "metadata": {},
   "source": [
    "---\n",
    "title: \"In-Class Assignment 12\"\n",
    "format: \n",
    "  html:\n",
    "    toc: true\n",
    "    toc-title: Contents\n",
    "    toc-depth: 4\n",
    "    code-fold: show\n",
    "    embed-resources: true\n",
    "    html-math-method: mathml \n",
    "jupyter: python3\n",
    "---"
   ]
  },
  {
   "cell_type": "markdown",
   "id": "8cd4b9a9-6911-4d99-881b-94123eb7d0c0",
   "metadata": {},
   "source": [
    "**Instructions:**\n",
    "\n",
    "- For questions that require coding, you need to write the relevant code and display its output. Your output should either be the direct answer to the question or clearly display the answer in it.\n",
    "- For questions that require a written answer (sometimes along with the code), you need to put your answer in a Markdown cell. Writing the answer as a comment or as a print line is not acceptable.\n",
    "- Receiving help from classmates and/or ideas from Generative AI is allowed. **However, you must submit your own original work.** \n",
    "- You need to render this file as HTML using Quarto and submit the HTML file. **Please note that this is a requirement and not optional.** A submission cannot be graded until it is properly rendered."
   ]
  },
  {
   "cell_type": "markdown",
   "id": "7f2149e3-289b-4ac0-941a-2063e49cfdfe",
   "metadata": {},
   "source": [
    "Import all the libraries and tools you need below."
   ]
  },
  {
   "cell_type": "code",
   "execution_count": 28,
   "id": "cb215669-ee4f-4b14-a6b2-278ed3a73a1b",
   "metadata": {},
   "outputs": [],
   "source": [
    "# Import all packages\n",
    "import tensorflow as tf\n",
    "import numpy as np\n",
    "import pandas as pd\n",
    "import matplotlib.pyplot as plt\n",
    "\n",
    "from sklearn.metrics import accuracy_score, confusion_matrix\n",
    "from keras.models import Sequential\n",
    "from keras.layers import Dense, InputLayer\n",
    "from keras.utils import to_categorical"
   ]
  },
  {
   "cell_type": "markdown",
   "id": "c8c04c7b-3597-47b3-aea1-602adcd25ddd",
   "metadata": {},
   "source": [
    "Run the line given below to read the MNIST dataset. Reshape the training and test predictors. (This should be ready from the previous in-class assignment.)"
   ]
  },
  {
   "cell_type": "code",
   "execution_count": 18,
   "id": "dc50cdfb-c7c1-4202-b7c3-5ea4af5435ed",
   "metadata": {},
   "outputs": [],
   "source": [
    "(x_train, y_train), (x_test, y_test) = tf.keras.datasets.mnist.load_data()"
   ]
  },
  {
   "cell_type": "code",
   "execution_count": 19,
   "id": "5d7d16be",
   "metadata": {},
   "outputs": [
    {
     "name": "stdout",
     "output_type": "stream",
     "text": [
      "(60000, 784)\n",
      "(10000, 784)\n"
     ]
    }
   ],
   "source": [
    "# Reshape data to comply with ANN (Make all x variables in to one number, 28 * 28 dimensions)\n",
    "x_train_new = x_train.copy()\n",
    "x_test_new = x_test.copy()\n",
    "x_train_new = np.reshape(x_train_new, (60000, 28 * 28))\n",
    "x_test_new = np.reshape(x_test_new, (10000, 28 * 28))\n",
    "\n",
    "# Test the shape\n",
    "print(x_train_new.shape)\n",
    "print(x_test_new.shape)"
   ]
  },
  {
   "cell_type": "markdown",
   "id": "664c059b-3862-4524-a6f2-943e20c79fc2",
   "metadata": {},
   "source": [
    "### 1)\n",
    "\n",
    "Using a **keras tool**, one-hot-encode the training target/response values. **(10 points)**"
   ]
  },
  {
   "cell_type": "code",
   "execution_count": 20,
   "id": "ad8df977",
   "metadata": {},
   "outputs": [
    {
     "data": {
      "text/plain": [
       "array([[0., 0., 0., ..., 0., 0., 0.],\n",
       "       [1., 0., 0., ..., 0., 0., 0.],\n",
       "       [0., 0., 0., ..., 0., 0., 0.],\n",
       "       ...,\n",
       "       [0., 0., 0., ..., 0., 0., 0.],\n",
       "       [0., 0., 0., ..., 0., 0., 0.],\n",
       "       [0., 0., 0., ..., 0., 1., 0.]])"
      ]
     },
     "execution_count": 20,
     "metadata": {},
     "output_type": "execute_result"
    }
   ],
   "source": [
    "# One-hot-encode the training response values (Using to_categorical)\n",
    "y_train_encoded = to_categorical(y_train)\n",
    "\n",
    "# Print y_train_encoded for sanity check\n",
    "y_train_encoded"
   ]
  },
  {
   "cell_type": "markdown",
   "id": "ea9181c6-814b-43c9-8514-1237f782e91b",
   "metadata": {},
   "source": [
    "### 2)\n",
    "\n",
    "Explain why one-hot-encoding the target values is necessary for classification with a neural network. (We have only one-hot-encoded categorical predictors up until this point!) **(10 points)**"
   ]
  },
  {
   "cell_type": "markdown",
   "id": "e48d6928",
   "metadata": {},
   "source": [
    "In the neural network classification, the cost function underlying the classification problems -- categorical cross entropy, needs the one-hot-encoded response value, $y_{c} ^{(i)}$. The output node of neural network model for classification also needs the total number of node equal to the class of node for compatability. If we have only one node with neural network classification, it will act as regression, leading to the following problem of misinterpretation. If there is no one-hoe-encoding process, the model can misinterpret ${0,1,...,9}$ as having inherent order of magnitude which is not true for classification problems."
   ]
  },
  {
   "cell_type": "markdown",
   "id": "1aa9ce5f-d2d8-4bb9-8277-5b3ba00bcf12",
   "metadata": {},
   "source": [
    "### 3)\n",
    "\n",
    "Create a **five-layer** network. Use 200, 100 and 50 nodes for each hidden layer, respectively. **You need to use both `InputLayer` and `Dense` objects (and only them) for credit.** \n",
    "\n",
    "Add the proper non-linear functions to the hidden and output layers. For the hidden layers, you should use the **most common** function that avoids the vanishing gradients problem. (Use the actual function, not its modified versions. The extensions will come later.) For the output layer, you are expected to know the only proper function to use.\n",
    "\n",
    "**In or between the layers, do not add any extra inputs that are not instructed. All components of a neural network will appear gradually in future in-class assignments.**\n",
    "\n",
    "**(30 points)**"
   ]
  },
  {
   "cell_type": "code",
   "execution_count": 24,
   "id": "e52f3e45",
   "metadata": {},
   "outputs": [],
   "source": [
    "# Create a five layer network\n",
    "network_mnist = Sequential()\n",
    "network_mnist.add(InputLayer(shape= (x_train_new.shape[1],))) # Create an input layer , number of node = number of variables\n",
    "network_mnist.add(Dense(200, activation= \"relu\", kernel_initializer= 'HeNormal'))\n",
    "network_mnist.add(Dense(100, activation= \"relu\", kernel_initializer= 'HeNormal'))\n",
    "network_mnist.add(Dense(50, activation= \"relu\", kernel_initializer= 'HeNormal'))\n",
    "network_mnist.add(Dense(y_train_encoded.shape[1], activation= \"softmax\", name = 'output')) # Output layer, number of node = number of classes\n"
   ]
  },
  {
   "cell_type": "markdown",
   "id": "fe84f254-4deb-467c-9cd9-82d44d521590",
   "metadata": {},
   "source": [
    "### 4)\n",
    "\n",
    "Why is it very common practice to have less nodes in deeper hidden layers? **(10 points)**"
   ]
  },
  {
   "cell_type": "markdown",
   "id": "46658267",
   "metadata": {},
   "source": [
    "It is common since the earlier layers of the network already learns about the low-level features like diagonal lines or edges. In the deeper layers, when the network processes, the outputs of the node represents more complex presentations with the learning of patterns and spatial data. Then at the deeper layer something complexed like face node can be represented based on thousands of lines and pixels."
   ]
  },
  {
   "cell_type": "markdown",
   "id": "d1f50c60-e2a0-4a25-ae2a-7db4638ee416",
   "metadata": {},
   "source": [
    "### 5)\n",
    "\n",
    "`compile` the network **only** with the cost function. You need to use the proper cost function for the task at hand and specify it as a **string, not as an object**. Do not account for any sparsity in the data.\n",
    "\n",
    "Print the network summary.\n",
    "\n",
    "**(10 points)**"
   ]
  },
  {
   "cell_type": "code",
   "execution_count": 25,
   "id": "95ae0466",
   "metadata": {},
   "outputs": [
    {
     "data": {
      "text/html": [
       "<pre style=\"white-space:pre;overflow-x:auto;line-height:normal;font-family:Menlo,'DejaVu Sans Mono',consolas,'Courier New',monospace\"><span style=\"font-weight: bold\">Model: \"sequential_5\"</span>\n",
       "</pre>\n"
      ],
      "text/plain": [
       "\u001b[1mModel: \"sequential_5\"\u001b[0m\n"
      ]
     },
     "metadata": {},
     "output_type": "display_data"
    },
    {
     "data": {
      "text/html": [
       "<pre style=\"white-space:pre;overflow-x:auto;line-height:normal;font-family:Menlo,'DejaVu Sans Mono',consolas,'Courier New',monospace\">┏━━━━━━━━━━━━━━━━━━━━━━━━━━━━━━━━━┳━━━━━━━━━━━━━━━━━━━━━━━━┳━━━━━━━━━━━━━━━┓\n",
       "┃<span style=\"font-weight: bold\"> Layer (type)                    </span>┃<span style=\"font-weight: bold\"> Output Shape           </span>┃<span style=\"font-weight: bold\">       Param # </span>┃\n",
       "┡━━━━━━━━━━━━━━━━━━━━━━━━━━━━━━━━━╇━━━━━━━━━━━━━━━━━━━━━━━━╇━━━━━━━━━━━━━━━┩\n",
       "│ dense_18 (<span style=\"color: #0087ff; text-decoration-color: #0087ff\">Dense</span>)                │ (<span style=\"color: #00d7ff; text-decoration-color: #00d7ff\">None</span>, <span style=\"color: #00af00; text-decoration-color: #00af00\">200</span>)            │       <span style=\"color: #00af00; text-decoration-color: #00af00\">157,000</span> │\n",
       "├─────────────────────────────────┼────────────────────────┼───────────────┤\n",
       "│ dense_19 (<span style=\"color: #0087ff; text-decoration-color: #0087ff\">Dense</span>)                │ (<span style=\"color: #00d7ff; text-decoration-color: #00d7ff\">None</span>, <span style=\"color: #00af00; text-decoration-color: #00af00\">100</span>)            │        <span style=\"color: #00af00; text-decoration-color: #00af00\">20,100</span> │\n",
       "├─────────────────────────────────┼────────────────────────┼───────────────┤\n",
       "│ dense_20 (<span style=\"color: #0087ff; text-decoration-color: #0087ff\">Dense</span>)                │ (<span style=\"color: #00d7ff; text-decoration-color: #00d7ff\">None</span>, <span style=\"color: #00af00; text-decoration-color: #00af00\">50</span>)             │         <span style=\"color: #00af00; text-decoration-color: #00af00\">5,050</span> │\n",
       "├─────────────────────────────────┼────────────────────────┼───────────────┤\n",
       "│ output (<span style=\"color: #0087ff; text-decoration-color: #0087ff\">Dense</span>)                  │ (<span style=\"color: #00d7ff; text-decoration-color: #00d7ff\">None</span>, <span style=\"color: #00af00; text-decoration-color: #00af00\">10</span>)             │           <span style=\"color: #00af00; text-decoration-color: #00af00\">510</span> │\n",
       "└─────────────────────────────────┴────────────────────────┴───────────────┘\n",
       "</pre>\n"
      ],
      "text/plain": [
       "┏━━━━━━━━━━━━━━━━━━━━━━━━━━━━━━━━━┳━━━━━━━━━━━━━━━━━━━━━━━━┳━━━━━━━━━━━━━━━┓\n",
       "┃\u001b[1m \u001b[0m\u001b[1mLayer (type)                   \u001b[0m\u001b[1m \u001b[0m┃\u001b[1m \u001b[0m\u001b[1mOutput Shape          \u001b[0m\u001b[1m \u001b[0m┃\u001b[1m \u001b[0m\u001b[1m      Param #\u001b[0m\u001b[1m \u001b[0m┃\n",
       "┡━━━━━━━━━━━━━━━━━━━━━━━━━━━━━━━━━╇━━━━━━━━━━━━━━━━━━━━━━━━╇━━━━━━━━━━━━━━━┩\n",
       "│ dense_18 (\u001b[38;5;33mDense\u001b[0m)                │ (\u001b[38;5;45mNone\u001b[0m, \u001b[38;5;34m200\u001b[0m)            │       \u001b[38;5;34m157,000\u001b[0m │\n",
       "├─────────────────────────────────┼────────────────────────┼───────────────┤\n",
       "│ dense_19 (\u001b[38;5;33mDense\u001b[0m)                │ (\u001b[38;5;45mNone\u001b[0m, \u001b[38;5;34m100\u001b[0m)            │        \u001b[38;5;34m20,100\u001b[0m │\n",
       "├─────────────────────────────────┼────────────────────────┼───────────────┤\n",
       "│ dense_20 (\u001b[38;5;33mDense\u001b[0m)                │ (\u001b[38;5;45mNone\u001b[0m, \u001b[38;5;34m50\u001b[0m)             │         \u001b[38;5;34m5,050\u001b[0m │\n",
       "├─────────────────────────────────┼────────────────────────┼───────────────┤\n",
       "│ output (\u001b[38;5;33mDense\u001b[0m)                  │ (\u001b[38;5;45mNone\u001b[0m, \u001b[38;5;34m10\u001b[0m)             │           \u001b[38;5;34m510\u001b[0m │\n",
       "└─────────────────────────────────┴────────────────────────┴───────────────┘\n"
      ]
     },
     "metadata": {},
     "output_type": "display_data"
    },
    {
     "data": {
      "text/html": [
       "<pre style=\"white-space:pre;overflow-x:auto;line-height:normal;font-family:Menlo,'DejaVu Sans Mono',consolas,'Courier New',monospace\"><span style=\"font-weight: bold\"> Total params: </span><span style=\"color: #00af00; text-decoration-color: #00af00\">182,660</span> (713.52 KB)\n",
       "</pre>\n"
      ],
      "text/plain": [
       "\u001b[1m Total params: \u001b[0m\u001b[38;5;34m182,660\u001b[0m (713.52 KB)\n"
      ]
     },
     "metadata": {},
     "output_type": "display_data"
    },
    {
     "data": {
      "text/html": [
       "<pre style=\"white-space:pre;overflow-x:auto;line-height:normal;font-family:Menlo,'DejaVu Sans Mono',consolas,'Courier New',monospace\"><span style=\"font-weight: bold\"> Trainable params: </span><span style=\"color: #00af00; text-decoration-color: #00af00\">182,660</span> (713.52 KB)\n",
       "</pre>\n"
      ],
      "text/plain": [
       "\u001b[1m Trainable params: \u001b[0m\u001b[38;5;34m182,660\u001b[0m (713.52 KB)\n"
      ]
     },
     "metadata": {},
     "output_type": "display_data"
    },
    {
     "data": {
      "text/html": [
       "<pre style=\"white-space:pre;overflow-x:auto;line-height:normal;font-family:Menlo,'DejaVu Sans Mono',consolas,'Courier New',monospace\"><span style=\"font-weight: bold\"> Non-trainable params: </span><span style=\"color: #00af00; text-decoration-color: #00af00\">0</span> (0.00 B)\n",
       "</pre>\n"
      ],
      "text/plain": [
       "\u001b[1m Non-trainable params: \u001b[0m\u001b[38;5;34m0\u001b[0m (0.00 B)\n"
      ]
     },
     "metadata": {},
     "output_type": "display_data"
    },
    {
     "name": "stdout",
     "output_type": "stream",
     "text": [
      "None\n"
     ]
    }
   ],
   "source": [
    "# Use compile with loss function \n",
    "network_mnist.compile(loss = 'categorical_crossentropy', optimizer = 'adam') \n",
    "\n",
    "print(network_mnist.summary())"
   ]
  },
  {
   "cell_type": "markdown",
   "id": "424b6571-dcbc-4f56-939f-7a523e464e73",
   "metadata": {},
   "source": [
    "### 6)\n",
    "\n",
    "Train the network for 5 epochs and a batch size of 100 (more on batch size later). **Do not use any other inputs.** Save the training line to an output variable, named `history`.\n",
    "\n",
    "Print the test accuracy and the test confusion matrix. Note that you need to process the direct model output.\n",
    "\n",
    "**(30 points)**"
   ]
  },
  {
   "cell_type": "code",
   "execution_count": 26,
   "id": "9ba90eba",
   "metadata": {},
   "outputs": [
    {
     "name": "stdout",
     "output_type": "stream",
     "text": [
      "Epoch 1/5\n",
      "\u001b[1m600/600\u001b[0m \u001b[32m━━━━━━━━━━━━━━━━━━━━\u001b[0m\u001b[37m\u001b[0m \u001b[1m3s\u001b[0m 3ms/step - loss: 6.1107\n",
      "Epoch 2/5\n",
      "\u001b[1m600/600\u001b[0m \u001b[32m━━━━━━━━━━━━━━━━━━━━\u001b[0m\u001b[37m\u001b[0m \u001b[1m2s\u001b[0m 3ms/step - loss: 0.4405\n",
      "Epoch 3/5\n",
      "\u001b[1m600/600\u001b[0m \u001b[32m━━━━━━━━━━━━━━━━━━━━\u001b[0m\u001b[37m\u001b[0m \u001b[1m2s\u001b[0m 3ms/step - loss: 0.2940\n",
      "Epoch 4/5\n",
      "\u001b[1m600/600\u001b[0m \u001b[32m━━━━━━━━━━━━━━━━━━━━\u001b[0m\u001b[37m\u001b[0m \u001b[1m2s\u001b[0m 3ms/step - loss: 0.2047\n",
      "Epoch 5/5\n",
      "\u001b[1m600/600\u001b[0m \u001b[32m━━━━━━━━━━━━━━━━━━━━\u001b[0m\u001b[37m\u001b[0m \u001b[1m2s\u001b[0m 3ms/step - loss: 0.1773\n"
     ]
    }
   ],
   "source": [
    "# Train the network, no validation split, early stop\n",
    "history = network_mnist.fit(x_train_new, y_train_encoded, epochs= 5, batch_size= 100)"
   ]
  },
  {
   "cell_type": "code",
   "execution_count": 31,
   "id": "1a7c52a9",
   "metadata": {},
   "outputs": [
    {
     "name": "stdout",
     "output_type": "stream",
     "text": [
      "\u001b[1m313/313\u001b[0m \u001b[32m━━━━━━━━━━━━━━━━━━━━\u001b[0m\u001b[37m\u001b[0m \u001b[1m0s\u001b[0m 861us/step\n",
      "Accuracy: 0.9537\n",
      "Confusion Matrix: [[ 966    0    2    0    0    2    0    1    7    2]\n",
      " [   0 1122    4    1    0    2    1    0    4    1]\n",
      " [   7    2  983    6   10    1    2    5   16    0]\n",
      " [   0    0   12  967    0    6    0    5   18    2]\n",
      " [   3    0    5    0  951    1    5    3    1   13]\n",
      " [   8    0    2   34    0  819    6    3   16    4]\n",
      " [   8    2    4    0   12    4  921    0    7    0]\n",
      " [   0    6   13    2   13    2    0  958   17   17]\n",
      " [   2    3   10   18    5    3    2    3  926    2]\n",
      " [  12    3    0    8   29    5    0   11   17  924]]\n"
     ]
    }
   ],
   "source": [
    "# Print the test accuracy and the test confusion matrix\n",
    "y_pred = network_mnist.predict(x_test_new)\n",
    "y_pred_classified = np.argmax(y_pred, axis= 1) # For each row, loop through each column\n",
    "\n",
    "# Test Accuracy\n",
    "print(f'Accuracy: {accuracy_score(y_test, y_pred_classified):.4f}')\n",
    "print(f'Confusion Matrix: {confusion_matrix(y_test, y_pred_classified)}')\n"
   ]
  },
  {
   "cell_type": "markdown",
   "id": "8a2007a4-78b2-4d47-b870-18270153d1da",
   "metadata": {},
   "source": [
    "**You will fine-tune this network in the next in-class assignment!**"
   ]
  }
 ],
 "metadata": {
  "kernelspec": {
   "display_name": "base",
   "language": "python",
   "name": "python3"
  },
  "language_info": {
   "codemirror_mode": {
    "name": "ipython",
    "version": 3
   },
   "file_extension": ".py",
   "mimetype": "text/x-python",
   "name": "python",
   "nbconvert_exporter": "python",
   "pygments_lexer": "ipython3",
   "version": "3.11.8"
  }
 },
 "nbformat": 4,
 "nbformat_minor": 5
}
