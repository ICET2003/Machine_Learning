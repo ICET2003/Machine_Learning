{
 "cells": [
  {
   "cell_type": "raw",
   "id": "6722a27e-2c08-4d28-81c6-a13e0a3ebb47",
   "metadata": {},
   "source": [
    "---\n",
    "title: \"In-Class Assignment 7\"\n",
    "format: \n",
    "  html:\n",
    "    toc: true\n",
    "    toc-title: Contents\n",
    "    toc-depth: 4\n",
    "    code-fold: show\n",
    "    embed-resources: true\n",
    "    html-math-method: mathml \n",
    "jupyter: python3\n",
    "---"
   ]
  },
  {
   "cell_type": "markdown",
   "id": "be6acc23-ff50-463a-b4f5-b65727e39a7a",
   "metadata": {},
   "source": [
    "**Instructions:**\n",
    "\n",
    "- For questions that require coding, you need to write the relevant code and display its output. Your output should either be the direct answer to the question or clearly display the answer in it.\n",
    "- For questions that require a written answer (sometimes along with the code), you need to put your answer in a Markdown cell. Writing the answer as a comment or as a print line is not acceptable.\n",
    "- You need to render this file as HTML using Quarto and submit the HTML file. **Please note that this is a requirement and not optional.** A submission cannot be graded until it is properly rendered."
   ]
  },
  {
   "cell_type": "markdown",
   "id": "b3a66523-86e8-4923-a79a-d755d3843302",
   "metadata": {},
   "source": [
    "Import all the libraries and tools you need below."
   ]
  },
  {
   "cell_type": "code",
   "execution_count": null,
   "id": "07df15a1-164c-44c5-8b7f-beed6ceeb9fc",
   "metadata": {},
   "outputs": [],
   "source": [
    "import matplotlib.pyplot as plt\n",
    "from sklearn.datasets import make_blobs, make_circles"
   ]
  },
  {
   "cell_type": "markdown",
   "id": "85850f39-1e17-4b41-9456-f449726d6cd4",
   "metadata": {
    "jp-MarkdownHeadingCollapsed": true
   },
   "source": [
    "Run the cell given below to create and plot two different two-dimensional datasets:\n",
    "\n",
    "- The first dataset has four blobs that come from different Gaussian distributions. Assume that each blob is a cluster.\n",
    "- The second dataset has two concentric circles centered at the origin. Assume that each circle is a cluster.\n",
    "\n",
    "**Note:** In this in-class assignment and the next, you will work on these toy datasets to understand both the scikit-learn tools and the Expectation-Maximization (EM) algorithm better. In Homework Assignment 3, you will apply clustering to real-life datasets."
   ]
  },
  {
   "cell_type": "code",
   "execution_count": null,
   "id": "c1b1d088-de3a-4667-86d4-4af79e7ea861",
   "metadata": {},
   "outputs": [],
   "source": [
    "n_samples = 1000\n",
    "n_components = 4\n",
    "\n",
    "X_blob, true_labels_blob = make_blobs(n_samples=n_samples, centers=4, cluster_std=0.50, random_state=0)\n",
    "X_circ, true_labels_circ = make_circles(n_samples=n_samples, noise=0.1, random_state=0,factor=0.4)\n",
    "\n",
    "plt.scatter(X_blob[:,0],X_blob[:,1])\n",
    "plt.grid()\n",
    "plt.xlabel('x1')\n",
    "plt.ylabel('x2')\n",
    "plt.show()\n",
    "\n",
    "plt.scatter(X_circ[:,0],X_circ[:,1])\n",
    "plt.grid()\n",
    "plt.xlabel('x1')\n",
    "plt.ylabel('x2')\n",
    "plt.show()"
   ]
  },
  {
   "cell_type": "markdown",
   "id": "3681cd5d-eef4-4904-8115-2cf8b6e99f25",
   "metadata": {},
   "source": [
    "## 1)\n",
    "\n",
    "Create and train two [K-Means](https://scikit-learn.org/1.5/modules/generated/sklearn.cluster.KMeans.html) models, one for each dataset. For both models, use `random_state=1` for reproducible initialization. Note that you need to pick a proper `n_clusters`. Leave the other inputs default. **(10 points)**"
   ]
  },
  {
   "cell_type": "markdown",
   "id": "a9bcb4b4-01a1-43f5-ae06-17040fc81f59",
   "metadata": {},
   "source": [
    "## 2)\n",
    "\n",
    "Using the trained models, obtain the predicted cluster labels. Plot both datasets again, only this time, color code the observations with the **predicted** labels.\n",
    "\n",
    "**Note:** If you are not familiar with data visualization in Python, the lines in the given cell above should be helpful. Just keep in mind that `plt.scatter` function has a `c` input for color-coding.\n",
    "\n",
    "**(10 points)**"
   ]
  },
  {
   "cell_type": "markdown",
   "id": "f109290c-b3c2-428f-a358-76f067bc7297",
   "metadata": {},
   "source": [
    "## 3)\n",
    "\n",
    "Does the K-Means model properly find the clusters in both datasets? Does it fail in any dataset? Why or why not? **Your explanation should include the (only) assumption behind a K-Means model for credit.** **(10 points)**"
   ]
  },
  {
   "cell_type": "markdown",
   "id": "7411c29c-442e-4fb9-9a7e-0fe587ce61ed",
   "metadata": {},
   "source": [
    "## 4)\n",
    "\n",
    "In this question, you will write the two functions that implement the EM algorithm. You will bring them together in the next in-class assignment."
   ]
  },
  {
   "cell_type": "markdown",
   "id": "0219239e-7ace-49eb-b803-8d88ee2c63e8",
   "metadata": {},
   "source": [
    "### a)\n",
    "\n",
    "Define a function called `M_step`. It should take two inputs: (1) `X`, the variable matrix and (2) `cluster_preds`, the vector of predicted cluster labels.\n",
    "\n",
    "For each cluster label, the function should calculate the centroid by taking variable averages. \n",
    "\n",
    "The function should return the calculated centroid values for each cluster label, **as a two-dimensional numpy array**. The size of the array should be: **(number of cluster labels, number of variables).**\n",
    "\n",
    "\n",
    "**You are not allowed to use loops/comprehensions.** The implementation should be vectorized. Consider the following steps:\n",
    "- Concatenate X and the labels and convert the output to a DataFrame.\n",
    "- [Group by](https://pandas.pydata.org/docs/reference/api/pandas.DataFrame.groupby.html) the last column.\n",
    "- Return the group averages, converted back to a numpy array.\n",
    "\n",
    "**(30 points)**"
   ]
  },
  {
   "cell_type": "code",
   "execution_count": null,
   "id": "710a9160-62c9-4116-b2bd-c79eccf6ab5e",
   "metadata": {},
   "outputs": [],
   "source": [
    "toy_X = np.arange(1,37).reshape(9,4)\n",
    "toy_labels = np.array([0,1,2,0,1,2,0,1,2])\n",
    "\n",
    "M_step(toy_X, toy_labels)\n",
    "\n",
    "# should return: \n",
    "\n",
    "#array([[13., 14., 15., 16.],\n",
    "#       [17., 18., 19., 20.],\n",
    "#       [21., 22., 23., 24.]])"
   ]
  },
  {
   "cell_type": "markdown",
   "id": "5d8dc1d6-8d6a-4b87-8791-1bdb0c992514",
   "metadata": {},
   "source": [
    "### b)\n",
    "\n",
    "Define a function called `E_step`. It should take two inputs: (1) `X`, the variable matrix and (2) `centroids`, the matrix of predicted centroids.\n",
    "\n",
    "For each observation, the function should calculate the cluster label by finding the closest centroid. The function should return the predicted cluster labels for each observation, **as a one-dimensional numpy array**. The size of the array should be: **(number of observations, )**.\n",
    "\n",
    "**You are not allowed to use loops/comprehensions.** The implementation should be vectorized. Consider the following steps:\n",
    "- Convert X to a DataFrame.\n",
    "- To each row, [apply](https://pandas.pydata.org/docs/reference/api/pandas.DataFrame.groupby.html) a function that finds the Euclidean distance to each row of `centroids` and returns the row index with the smallest distance. (You can implement this with a lambda function or define another function.)\n",
    "- Convert the output to a numpy array.\n",
    "\n",
    "**(40 points)**"
   ]
  },
  {
   "cell_type": "code",
   "execution_count": null,
   "id": "38aa2cf2-3308-424a-8369-ff4d9a6f499e",
   "metadata": {},
   "outputs": [],
   "source": [
    "toy_X = np.arange(1,37).reshape(9,4)\n",
    "toy_centroids = np.array([[13., 14., 15., 16.],\n",
    "                           [17., 18., 19., 20.],\n",
    "                           [21., 22., 23., 24.]])\n",
    "\n",
    "E_step(toy_X, toy_centroids)\n",
    "\n",
    "# should return:\n",
    "    # array([0, 0, 0, 0, 1, 2, 2, 2, 2]"
   ]
  }
 ],
 "metadata": {
  "kernelspec": {
   "display_name": "Python 3 (ipykernel)",
   "language": "python",
   "name": "python3"
  },
  "language_info": {
   "codemirror_mode": {
    "name": "ipython",
    "version": 3
   },
   "file_extension": ".py",
   "mimetype": "text/x-python",
   "name": "python",
   "nbconvert_exporter": "python",
   "pygments_lexer": "ipython3",
   "version": "3.11.7"
  }
 },
 "nbformat": 4,
 "nbformat_minor": 5
}
