{
 "cells": [
  {
   "cell_type": "raw",
   "id": "995e6782-3407-4aa8-914c-bd35dd83c49e",
   "metadata": {},
   "source": [
    "---\n",
    "title: \"In-Class Assignment 11\"\n",
    "format: \n",
    "  html:\n",
    "    toc: true\n",
    "    toc-title: Contents\n",
    "    toc-depth: 4\n",
    "    code-fold: show\n",
    "    embed-resources: true\n",
    "    html-math-method: mathml \n",
    "jupyter: python3\n",
    "---"
   ]
  },
  {
   "cell_type": "markdown",
   "id": "5e74a6f0-872d-41f1-a58c-f1cb80992b0f",
   "metadata": {},
   "source": [
    "**Instructions:**\n",
    "\n",
    "- For questions that require coding, you need to write the relevant code and display its output. Your output should either be the direct answer to the question or clearly display the answer in it.\n",
    "- For questions that require a written answer (sometimes along with the code), you need to put your answer in a Markdown cell. Writing the answer as a comment or as a print line is not acceptable.\n",
    "- Receiving help from classmates and/or ideas from Generative AI is allowed. **However, you must submit your own original work.** \n",
    "- You need to render this file as HTML using Quarto and submit the HTML file. **Please note that this is a requirement and not optional.** A submission cannot be graded until it is properly rendered."
   ]
  },
  {
   "cell_type": "markdown",
   "id": "a95110d8-7010-46ed-98aa-9379a653c1d5",
   "metadata": {},
   "source": [
    "Import all the libraries and tools you need below."
   ]
  },
  {
   "cell_type": "code",
   "execution_count": 41,
   "id": "1a5c44e5-a0c6-40c9-97a0-006d5e209c3c",
   "metadata": {},
   "outputs": [],
   "source": [
    "# !pip install tensorflow\n",
    "import tensorflow as tf\n",
    "import numpy as np\n",
    "import pandas as pd\n",
    "import matplotlib.pyplot as plt\n",
    "import seaborn as sns\n",
    "from keras.models import Sequential\n",
    "from keras.layers import InputLayer, Dense\n",
    "from keras import layers, ops\n"
   ]
  },
  {
   "cell_type": "markdown",
   "id": "0d9e8270-6ff1-4df6-b309-d089ab22024b",
   "metadata": {},
   "source": [
    "First, install [Tensorflow](https://www.tensorflow.org/) and [Keras](https://keras.io/) to your Python environment. Depending on your version, Keras comes with Tensorflow, so you might not need to install Keras separately. \n",
    "\n",
    "Make sure both libraries are installed properly. Check if you can import Tensorflow, Keras and any tool from Keras in the cell above.\n",
    "\n",
    "If you have installation issues, you are expected to communicate this to the instructor promptly."
   ]
  },
  {
   "cell_type": "markdown",
   "id": "198abfd3-0f91-42b8-a5f6-5c73d059ae23",
   "metadata": {},
   "source": [
    "### 1)\n",
    "\n",
    "Run the line below to load the MNIST data. This dataset consists of black-and-white images of handwritten digits. Answer the following questions to familiarize yourself with the dataset. (You will use this dataset for this and the next **four** in-class assignments.)\n",
    "\n",
    "- Print the shape of both the training and test datasets. How many dimensions does each dataset have?\n",
    "- In tabular data, the dimensions represented the number of observations and variables, respectively. What do the dimensions represent in this dataset?\n",
    "- How many images are there in the training and test datasets?\n",
    "- What are the dimensions of each image?\n",
    "- How many classes are there in the dataset? Print the set of the classes.\n",
    "\n",
    "**(15 points)**"
   ]
  },
  {
   "cell_type": "code",
   "execution_count": 2,
   "id": "ce6c2da0-506a-4c62-80e8-750be7cd28c4",
   "metadata": {},
   "outputs": [
    {
     "name": "stdout",
     "output_type": "stream",
     "text": [
      "Downloading data from https://storage.googleapis.com/tensorflow/tf-keras-datasets/mnist.npz\n",
      "\u001b[1m11490434/11490434\u001b[0m \u001b[32m━━━━━━━━━━━━━━━━━━━━\u001b[0m\u001b[37m\u001b[0m \u001b[1m1s\u001b[0m 0us/step\n"
     ]
    }
   ],
   "source": [
    "(x_train, y_train), (x_test, y_test) = tf.keras.datasets.mnist.load_data()"
   ]
  },
  {
   "cell_type": "code",
   "execution_count": 13,
   "id": "92198084",
   "metadata": {},
   "outputs": [
    {
     "name": "stdout",
     "output_type": "stream",
     "text": [
      "Training data shape: (60000, 28, 28)\n",
      "Testing data shape: (10000, 28, 28)\n",
      "28\n",
      "28\n"
     ]
    }
   ],
   "source": [
    "# Print the shape of both the training and test dataset\n",
    "print(f'Training data shape: {x_train.shape}')\n",
    "print(f'Testing data shape: {x_test.shape}')\n",
    "\n",
    "# Check the dimension of each image\n",
    "print(x_train.shape[1])\n",
    "print(x_train.shape[2])"
   ]
  },
  {
   "cell_type": "markdown",
   "id": "482d4999",
   "metadata": {},
   "source": [
    "There are three dimensions for each dataset. The first dimension here should be the number of observation of handwriting digits and the second and third dimensions should be the size of array representing one handwriting image, 28 * 28 array. Therefore, there is 60,000 observations of images in a training dataset and 10,000 observations in the testing dataset. The dimension of the image is 28 * 28. "
   ]
  },
  {
   "cell_type": "code",
   "execution_count": 20,
   "id": "dbdd20e4",
   "metadata": {},
   "outputs": [
    {
     "name": "stdout",
     "output_type": "stream",
     "text": [
      "Number of classes: 10 \n",
      "Set of classes: {0, 1, 2, 3, 4, 5, 6, 7, 8, 9}\n"
     ]
    },
    {
     "data": {
      "text/plain": [
       "array([5, 0, 4, ..., 5, 6, 8], dtype=uint8)"
      ]
     },
     "execution_count": 20,
     "metadata": {},
     "output_type": "execute_result"
    }
   ],
   "source": [
    "# Check the number and set of classes\n",
    "print(f'Number of classes: {len(set(y_train))} ')\n",
    "print(f'Set of classes: {set(y_train)}')"
   ]
  },
  {
   "cell_type": "markdown",
   "id": "602dfaf0-f3bc-442e-8a5a-6bc16b307b96",
   "metadata": {},
   "source": [
    "### 2)\n",
    "\n",
    "[Visualize](https://matplotlib.org/stable/api/_as_gen/matplotlib.pyplot.imshow.html) the images for three different digits. Would they be considered low or high-resolution images? What happens in terms of the dimensionality of the data as the resolution increases in an image dataset? **(10 points)**"
   ]
  },
  {
   "cell_type": "code",
   "execution_count": 28,
   "id": "11d2e71d",
   "metadata": {},
   "outputs": [
    {
     "data": {
      "image/png": "[encoded data removed]",
      "text/plain": [
       "<Figure size 1000x300 with 3 Axes>"
      ]
     },
     "metadata": {},
     "output_type": "display_data"
    }
   ],
   "source": [
    "# Visualize the image \n",
    "# Create an empty plot\n",
    "fig, axes = plt.subplots(1,3, figsize= (10,3))\n",
    "\n",
    "digit_show = [2,3,4]\n",
    "# Write a loop to visualize the \n",
    "for axes, digit in zip(axes, digit_show):\n",
    "    # Accessing the first appearance of 2/3/4 in the first array\n",
    "    index = np.where(y_train == digit)[0][0]\n",
    "    # Show the image inscribed in x_train\n",
    "    axes.imshow(x_train[index], cmap= 'gray')\n",
    "\n",
    "# Setup title name\n",
    "fig.suptitle('Three Digits Displayed')\n",
    "plt.show()\n",
    "\n",
    "\n"
   ]
  },
  {
   "cell_type": "markdown",
   "id": "4f8c4eca",
   "metadata": {},
   "source": [
    "The image of digits here are 28 * 28, recognized as low-resolution. As the resolution of images increases, the dimensionality of data will increase quadratically as the increased resolution of images means the increase in number of pixels representing the two dimension area. For instance, if we increase the resolution from 28 * 28 to 56 * 56, the dimensionality, here recognized as the number of pixels representing each grid of pictures, will increase from 28 * 28 = 784 to 56 * 56 = 4 * 784. We see that the two times increase in resolution leads to four times increase in dimensionality."
   ]
  },
  {
   "cell_type": "markdown",
   "id": "d2ce327d-29f4-4f26-85d4-45b25765851a",
   "metadata": {},
   "source": [
    "### 3)\n",
    "\n",
    "An artificial neural network (ANN) cannot handle image data in its raw format, i.e. as a tensor. Therefore, you need to transform the image data into the tabular format that is used by all the classical Machine Learning (ML) models you learned in STAT 362 (and in STAT 301/303).\n",
    "\n",
    "[Reshape](https://numpy.org/doc/stable/reference/generated/numpy.reshape.html) both the training and test dataset into two-dimensional matrices. Each observation should represent an image and each predictor should represent a pixel value.\n",
    "\n",
    "Print the `shape` of the reshaped matrices to check if the data is processed correctly.\n",
    "\n",
    "**(7.5 points)**"
   ]
  },
  {
   "cell_type": "code",
   "execution_count": 32,
   "id": "552d6965",
   "metadata": {},
   "outputs": [
    {
     "name": "stdout",
     "output_type": "stream",
     "text": [
      "(60000, 784)\n",
      "(10000, 784)\n"
     ]
    }
   ],
   "source": [
    "# Reshape data to comply with ANN (Make all x variables in to one number, 28 * 28 dimensions)\n",
    "x_train_new = x_train.copy()\n",
    "x_test_new = x_test.copy()\n",
    "x_train_new = np.reshape(x_train_new, (60000, 28 * 28))\n",
    "x_test_new = np.reshape(x_test_new, (10000, 28 * 28))\n",
    "\n",
    "# Test the shape\n",
    "print(x_train_new.shape)\n",
    "print(x_test_new.shape)\n"
   ]
  },
  {
   "cell_type": "markdown",
   "id": "dbf38dd6-abd2-4e34-9c7a-25dfddeaea75",
   "metadata": {},
   "source": [
    "### 4)\n",
    "\n",
    "When the images in a dataset are processed into vectors by simply stacking their columns on top of one another, this is called **vectorization**. What information about the images is lost when an image dataset is processed with vectorization?\n",
    "\n",
    "(This issue will be solved later by a special type of network architecture.)\n",
    "\n",
    "**(7.5 points)**"
   ]
  },
  {
   "cell_type": "markdown",
   "id": "462448cb",
   "metadata": {},
   "source": [
    "There are two main losses from the vectorization method. \n",
    "\n",
    "Firstly, the information of neighborhood of each pixel is lost. After vectorization, we do not know the local neighborhood of each pixel representing a part of a certain digit anymore.\n",
    "\n",
    "Secondly, we lost the spatial relationship in big image. For example, when we look at 1, we have an image in our mind that it should look like a stick with a tip. The vectorization makes this information collapses."
   ]
  },
  {
   "cell_type": "markdown",
   "id": "bb738f2c-7556-462b-9e54-a767c7e2993d",
   "metadata": {},
   "source": [
    "### 5)\n",
    "\n",
    "Start an **empty** ANN model with the `Sequential` object. **(7.5 points)**"
   ]
  },
  {
   "cell_type": "code",
   "execution_count": 34,
   "id": "e3327049",
   "metadata": {},
   "outputs": [],
   "source": [
    "# Create an empty network\n",
    "network = Sequential()"
   ]
  },
  {
   "cell_type": "markdown",
   "id": "5586c1bf-62bc-49ff-a9ca-b1044b8c0b73",
   "metadata": {},
   "source": [
    "### 6)\n",
    "\n",
    "Add an input layer to the network. The number of nodes should be consistent with the data. **(12.5 points)**\n",
    "\n",
    "**Note:** Be careful with rerunning the cell multiple times."
   ]
  },
  {
   "cell_type": "code",
   "execution_count": null,
   "id": "97fcbc44",
   "metadata": {},
   "outputs": [],
   "source": [
    "# Add an input layer to a network ()\n",
    "network.add(InputLayer(shape=(x_train_new.shape[1],))) # An input layer of 784 nodes"
   ]
  },
  {
   "cell_type": "markdown",
   "id": "46894060-43ea-420b-b8b2-b075461bcdeb",
   "metadata": {},
   "source": [
    "### 7)\n",
    "\n",
    "Add an output layer to the network. The number of nodes should be consistent with the data. **(12.5 points)**\n",
    "\n",
    "**Notes:** \n",
    "\n",
    "- Do not use any other input than the number of nodes in the layer. You will build on this basic network in the upcoming in-class assignments.\n",
    "- Be careful with rerunning the cell multiple times."
   ]
  },
  {
   "cell_type": "code",
   "execution_count": null,
   "id": "4986a53f",
   "metadata": {},
   "outputs": [],
   "source": [
    "# Add output layer\n",
    "network.add(Dense(len(set(y_train)))) # Ten possible categorical outputs"
   ]
  },
  {
   "cell_type": "markdown",
   "id": "dbd4eb63-ceab-4009-8719-3c394d23c6d0",
   "metadata": {},
   "source": [
    "### 8)\n",
    "\n",
    "Find out how many parameters you (already) have in this basic network by printing its `summary`. **(7.5 points)**"
   ]
  },
  {
   "cell_type": "code",
   "execution_count": 39,
   "id": "f0a79f2b",
   "metadata": {},
   "outputs": [
    {
     "data": {
      "text/html": [
       "<pre style=\"white-space:pre;overflow-x:auto;line-height:normal;font-family:Menlo,'DejaVu Sans Mono',consolas,'Courier New',monospace\"><span style=\"font-weight: bold\">Model: \"sequential\"</span>\n",
       "</pre>\n"
      ],
      "text/plain": [
       "\u001b[1mModel: \"sequential\"\u001b[0m\n"
      ]
     },
     "metadata": {},
     "output_type": "display_data"
    },
    {
     "data": {
      "text/html": [
       "<pre style=\"white-space:pre;overflow-x:auto;line-height:normal;font-family:Menlo,'DejaVu Sans Mono',consolas,'Courier New',monospace\">┏━━━━━━━━━━━━━━━━━━━━━━━━━━━━━━━━━┳━━━━━━━━━━━━━━━━━━━━━━━━┳━━━━━━━━━━━━━━━┓\n",
       "┃<span style=\"font-weight: bold\"> Layer (type)                    </span>┃<span style=\"font-weight: bold\"> Output Shape           </span>┃<span style=\"font-weight: bold\">       Param # </span>┃\n",
       "┡━━━━━━━━━━━━━━━━━━━━━━━━━━━━━━━━━╇━━━━━━━━━━━━━━━━━━━━━━━━╇━━━━━━━━━━━━━━━┩\n",
       "│ dense (<span style=\"color: #0087ff; text-decoration-color: #0087ff\">Dense</span>)                   │ (<span style=\"color: #00d7ff; text-decoration-color: #00d7ff\">None</span>, <span style=\"color: #00af00; text-decoration-color: #00af00\">10</span>)             │         <span style=\"color: #00af00; text-decoration-color: #00af00\">7,850</span> │\n",
       "└─────────────────────────────────┴────────────────────────┴───────────────┘\n",
       "</pre>\n"
      ],
      "text/plain": [
       "┏━━━━━━━━━━━━━━━━━━━━━━━━━━━━━━━━━┳━━━━━━━━━━━━━━━━━━━━━━━━┳━━━━━━━━━━━━━━━┓\n",
       "┃\u001b[1m \u001b[0m\u001b[1mLayer (type)                   \u001b[0m\u001b[1m \u001b[0m┃\u001b[1m \u001b[0m\u001b[1mOutput Shape          \u001b[0m\u001b[1m \u001b[0m┃\u001b[1m \u001b[0m\u001b[1m      Param #\u001b[0m\u001b[1m \u001b[0m┃\n",
       "┡━━━━━━━━━━━━━━━━━━━━━━━━━━━━━━━━━╇━━━━━━━━━━━━━━━━━━━━━━━━╇━━━━━━━━━━━━━━━┩\n",
       "│ dense (\u001b[38;5;33mDense\u001b[0m)                   │ (\u001b[38;5;45mNone\u001b[0m, \u001b[38;5;34m10\u001b[0m)             │         \u001b[38;5;34m7,850\u001b[0m │\n",
       "└─────────────────────────────────┴────────────────────────┴───────────────┘\n"
      ]
     },
     "metadata": {},
     "output_type": "display_data"
    },
    {
     "data": {
      "text/html": [
       "<pre style=\"white-space:pre;overflow-x:auto;line-height:normal;font-family:Menlo,'DejaVu Sans Mono',consolas,'Courier New',monospace\"><span style=\"font-weight: bold\"> Total params: </span><span style=\"color: #00af00; text-decoration-color: #00af00\">7,850</span> (30.66 KB)\n",
       "</pre>\n"
      ],
      "text/plain": [
       "\u001b[1m Total params: \u001b[0m\u001b[38;5;34m7,850\u001b[0m (30.66 KB)\n"
      ]
     },
     "metadata": {},
     "output_type": "display_data"
    },
    {
     "data": {
      "text/html": [
       "<pre style=\"white-space:pre;overflow-x:auto;line-height:normal;font-family:Menlo,'DejaVu Sans Mono',consolas,'Courier New',monospace\"><span style=\"font-weight: bold\"> Trainable params: </span><span style=\"color: #00af00; text-decoration-color: #00af00\">7,850</span> (30.66 KB)\n",
       "</pre>\n"
      ],
      "text/plain": [
       "\u001b[1m Trainable params: \u001b[0m\u001b[38;5;34m7,850\u001b[0m (30.66 KB)\n"
      ]
     },
     "metadata": {},
     "output_type": "display_data"
    },
    {
     "data": {
      "text/html": [
       "<pre style=\"white-space:pre;overflow-x:auto;line-height:normal;font-family:Menlo,'DejaVu Sans Mono',consolas,'Courier New',monospace\"><span style=\"font-weight: bold\"> Non-trainable params: </span><span style=\"color: #00af00; text-decoration-color: #00af00\">0</span> (0.00 B)\n",
       "</pre>\n"
      ],
      "text/plain": [
       "\u001b[1m Non-trainable params: \u001b[0m\u001b[38;5;34m0\u001b[0m (0.00 B)\n"
      ]
     },
     "metadata": {},
     "output_type": "display_data"
    },
    {
     "name": "stdout",
     "output_type": "stream",
     "text": [
      "None\n"
     ]
    }
   ],
   "source": [
    "# Find out the number of parameters\n",
    "print(network.summary())"
   ]
  },
  {
   "cell_type": "markdown",
   "id": "ebaba86a",
   "metadata": {},
   "source": [
    "There is 7850 parameters."
   ]
  },
  {
   "cell_type": "markdown",
   "id": "2ded3bf0-868b-450c-b3e9-7f19d354b23d",
   "metadata": {},
   "source": [
    "### 9)\n",
    "\n",
    "How many layers does the network currently have? Does it have any hidden layers? Is it considered a \"deep network\"? **(5 points)**"
   ]
  },
  {
   "cell_type": "markdown",
   "id": "2a24bf37",
   "metadata": {},
   "source": [
    "The network currently has two layers: input layer and output layer. Since there is no hidden layer, it is not considered as a deep network."
   ]
  },
  {
   "cell_type": "markdown",
   "id": "4f6f18b4-0936-433e-b15d-984a97bdb271",
   "metadata": {},
   "source": [
    "### 10)\n",
    "\n",
    "It is also useful to learn how to create a network in a less object-oriented way, which, for some special architectures, might be the only option.\n",
    "\n",
    "Recreate the network you finalized in Question 7 by directly using a `Sequential` object with some inputs. You can follow [the guide on the Keras documentation](https://keras.io/guides/sequential_model/). **Note that your layers and their inputs should be the same as the network finalized in Question 7.** Reprint the network summary. You should have the same output as in Question 8 (with the name of the layer slightly different).\n",
    "\n",
    "**(15 points)**"
   ]
  },
  {
   "cell_type": "code",
   "execution_count": 45,
   "id": "467fc47b",
   "metadata": {},
   "outputs": [
    {
     "data": {
      "text/html": [
       "<pre style=\"white-space:pre;overflow-x:auto;line-height:normal;font-family:Menlo,'DejaVu Sans Mono',consolas,'Courier New',monospace\"><span style=\"font-weight: bold\">Model: \"sequential_3\"</span>\n",
       "</pre>\n"
      ],
      "text/plain": [
       "\u001b[1mModel: \"sequential_3\"\u001b[0m\n"
      ]
     },
     "metadata": {},
     "output_type": "display_data"
    },
    {
     "data": {
      "text/html": [
       "<pre style=\"white-space:pre;overflow-x:auto;line-height:normal;font-family:Menlo,'DejaVu Sans Mono',consolas,'Courier New',monospace\">┏━━━━━━━━━━━━━━━━━━━━━━━━━━━━━━━━━┳━━━━━━━━━━━━━━━━━━━━━━━━┳━━━━━━━━━━━━━━━┓\n",
       "┃<span style=\"font-weight: bold\"> Layer (type)                    </span>┃<span style=\"font-weight: bold\"> Output Shape           </span>┃<span style=\"font-weight: bold\">       Param # </span>┃\n",
       "┡━━━━━━━━━━━━━━━━━━━━━━━━━━━━━━━━━╇━━━━━━━━━━━━━━━━━━━━━━━━╇━━━━━━━━━━━━━━━┩\n",
       "│ Output Layer (<span style=\"color: #0087ff; text-decoration-color: #0087ff\">Dense</span>)            │ (<span style=\"color: #00d7ff; text-decoration-color: #00d7ff\">None</span>, <span style=\"color: #00af00; text-decoration-color: #00af00\">10</span>)             │         <span style=\"color: #00af00; text-decoration-color: #00af00\">7,850</span> │\n",
       "└─────────────────────────────────┴────────────────────────┴───────────────┘\n",
       "</pre>\n"
      ],
      "text/plain": [
       "┏━━━━━━━━━━━━━━━━━━━━━━━━━━━━━━━━━┳━━━━━━━━━━━━━━━━━━━━━━━━┳━━━━━━━━━━━━━━━┓\n",
       "┃\u001b[1m \u001b[0m\u001b[1mLayer (type)                   \u001b[0m\u001b[1m \u001b[0m┃\u001b[1m \u001b[0m\u001b[1mOutput Shape          \u001b[0m\u001b[1m \u001b[0m┃\u001b[1m \u001b[0m\u001b[1m      Param #\u001b[0m\u001b[1m \u001b[0m┃\n",
       "┡━━━━━━━━━━━━━━━━━━━━━━━━━━━━━━━━━╇━━━━━━━━━━━━━━━━━━━━━━━━╇━━━━━━━━━━━━━━━┩\n",
       "│ Output Layer (\u001b[38;5;33mDense\u001b[0m)            │ (\u001b[38;5;45mNone\u001b[0m, \u001b[38;5;34m10\u001b[0m)             │         \u001b[38;5;34m7,850\u001b[0m │\n",
       "└─────────────────────────────────┴────────────────────────┴───────────────┘\n"
      ]
     },
     "metadata": {},
     "output_type": "display_data"
    },
    {
     "data": {
      "text/html": [
       "<pre style=\"white-space:pre;overflow-x:auto;line-height:normal;font-family:Menlo,'DejaVu Sans Mono',consolas,'Courier New',monospace\"><span style=\"font-weight: bold\"> Total params: </span><span style=\"color: #00af00; text-decoration-color: #00af00\">7,850</span> (30.66 KB)\n",
       "</pre>\n"
      ],
      "text/plain": [
       "\u001b[1m Total params: \u001b[0m\u001b[38;5;34m7,850\u001b[0m (30.66 KB)\n"
      ]
     },
     "metadata": {},
     "output_type": "display_data"
    },
    {
     "data": {
      "text/html": [
       "<pre style=\"white-space:pre;overflow-x:auto;line-height:normal;font-family:Menlo,'DejaVu Sans Mono',consolas,'Courier New',monospace\"><span style=\"font-weight: bold\"> Trainable params: </span><span style=\"color: #00af00; text-decoration-color: #00af00\">7,850</span> (30.66 KB)\n",
       "</pre>\n"
      ],
      "text/plain": [
       "\u001b[1m Trainable params: \u001b[0m\u001b[38;5;34m7,850\u001b[0m (30.66 KB)\n"
      ]
     },
     "metadata": {},
     "output_type": "display_data"
    },
    {
     "data": {
      "text/html": [
       "<pre style=\"white-space:pre;overflow-x:auto;line-height:normal;font-family:Menlo,'DejaVu Sans Mono',consolas,'Courier New',monospace\"><span style=\"font-weight: bold\"> Non-trainable params: </span><span style=\"color: #00af00; text-decoration-color: #00af00\">0</span> (0.00 B)\n",
       "</pre>\n"
      ],
      "text/plain": [
       "\u001b[1m Non-trainable params: \u001b[0m\u001b[38;5;34m0\u001b[0m (0.00 B)\n"
      ]
     },
     "metadata": {},
     "output_type": "display_data"
    },
    {
     "name": "stdout",
     "output_type": "stream",
     "text": [
      "None\n"
     ]
    }
   ],
   "source": [
    "# Recreate the network by using less object-oriented way\n",
    "new_network = Sequential([InputLayer(shape= (x_train_new.shape[1],)), layers.Dense(len(set(y_train)), name = 'Output Layer')])\n",
    "\n",
    "print(new_network.summary())"
   ]
  }
 ],
 "metadata": {
  "kernelspec": {
   "display_name": "base",
   "language": "python",
   "name": "python3"
  },
  "language_info": {
   "codemirror_mode": {
    "name": "ipython",
    "version": 3
   },
   "file_extension": ".py",
   "mimetype": "text/x-python",
   "name": "python",
   "nbconvert_exporter": "python",
   "pygments_lexer": "ipython3",
   "version": "3.11.8"
  }
 },
 "nbformat": 4,
 "nbformat_minor": 5
}
