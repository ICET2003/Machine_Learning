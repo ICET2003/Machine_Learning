{
 "cells": [
  {
   "cell_type": "markdown",
   "id": "dccb5c38",
   "metadata": {},
   "source": []
  },
  {
   "cell_type": "raw",
   "id": "3bf67b66-2968-42e1-8d25-5075a5c7ed10",
   "metadata": {},
   "source": [
    "---\n",
    "title: \"In-Class Assignment 1\"\n",
    "format: \n",
    "  html:\n",
    "    toc: true\n",
    "    toc-title: Contents\n",
    "    toc-depth: 4\n",
    "    code-fold: show\n",
    "    embed-resources: true\n",
    "    html-math-method: mathml \n",
    "jupyter: python3\n",
    "---"
   ]
  },
  {
   "cell_type": "markdown",
   "id": "f142127b-417a-4613-a9ff-953934c205a5",
   "metadata": {},
   "source": [
    "## In-Class Assignment 1"
   ]
  },
  {
   "cell_type": "markdown",
   "id": "a658eaa0-eed5-4143-86d0-b43303dc4096",
   "metadata": {},
   "source": [
    "**Instructions:**\n",
    "\n",
    "- For questions that require coding, you need to write the relevant code and display its output. Your output should either be the direct answer to the question or clearly display the answer in it.\n",
    "- For questions that require a written answer (sometimes along with the code), you need to put your answer in a Markdown cell. Writing the answer as a comment or as a print line is not acceptable.\n",
    "- You need to render this file as HTML using Quarto and submit the HTML file. **Please note that this is a requirement and not optional.** A submission cannot be graded until it is properly rendered."
   ]
  },
  {
   "cell_type": "markdown",
   "id": "89d91f22-f3ed-4ace-93e0-306584f13d9c",
   "metadata": {},
   "source": [
    "Import all the libraries and tools you need below."
   ]
  },
  {
   "cell_type": "code",
   "execution_count": 3,
   "id": "f11d4765-e714-479e-8505-798d93187d7d",
   "metadata": {},
   "outputs": [],
   "source": [
    "# Import all libraries\n",
    "import numpy as np\n",
    "import pandas as pd\n",
    "import matplotlib.pyplot as plt\n",
    "\n",
    "from sklearn.linear_model import LinearRegression, LogisticRegression, Lasso, Ridge\n",
    "from sklearn.preprocessing import StandardScaler, MinMaxScaler, RobustScaler, Normalizer\n",
    "from sklearn.model_selection import train_test_split\n",
    "from sklearn.metrics import mean_squared_error,mean_absolute_error, r2_score, accuracy_score, recall_score, confusion_matrix"
   ]
  },
  {
   "cell_type": "markdown",
   "id": "64b44070-042e-441b-a6fa-d5c598f5de8d",
   "metadata": {},
   "source": [
    "### 1) \n",
    "\n",
    "This question serves as a warm-up for using sklearn objects for different Machine Learning tasks.\n",
    "\n",
    "You need to use the **BankNote_Authentication.csv** dataset. Each observation is a banknote. The response variable, named `class`, represents whether the banknote is forged (1) or authentic (0). All other variables are the predictors and they represent a number of statistical measures extracted from the images of the banknotes."
   ]
  },
  {
   "cell_type": "markdown",
   "id": "b9fc21c5-c304-4b33-857e-38b060ed2a7a",
   "metadata": {},
   "source": [
    "### a)\n",
    "\n",
    "Read the data as a DataFrame. **(5 points)**"
   ]
  },
  {
   "cell_type": "code",
   "execution_count": 4,
   "id": "7fba4105",
   "metadata": {},
   "outputs": [
    {
     "data": {
      "text/html": [
       "<div>\n",
       "<style scoped>\n",
       "    .dataframe tbody tr th:only-of-type {\n",
       "        vertical-align: middle;\n",
       "    }\n",
       "\n",
       "    .dataframe tbody tr th {\n",
       "        vertical-align: top;\n",
       "    }\n",
       "\n",
       "    .dataframe thead th {\n",
       "        text-align: right;\n",
       "    }\n",
       "</style>\n",
       "<table border=\"1\" class=\"dataframe\">\n",
       "  <thead>\n",
       "    <tr style=\"text-align: right;\">\n",
       "      <th></th>\n",
       "      <th>variance</th>\n",
       "      <th>skewness</th>\n",
       "      <th>curtosis</th>\n",
       "      <th>entropy</th>\n",
       "      <th>class</th>\n",
       "    </tr>\n",
       "  </thead>\n",
       "  <tbody>\n",
       "    <tr>\n",
       "      <th>0</th>\n",
       "      <td>3.62160</td>\n",
       "      <td>8.6661</td>\n",
       "      <td>-2.8073</td>\n",
       "      <td>-0.44699</td>\n",
       "      <td>0</td>\n",
       "    </tr>\n",
       "    <tr>\n",
       "      <th>1</th>\n",
       "      <td>4.54590</td>\n",
       "      <td>8.1674</td>\n",
       "      <td>-2.4586</td>\n",
       "      <td>-1.46210</td>\n",
       "      <td>0</td>\n",
       "    </tr>\n",
       "    <tr>\n",
       "      <th>2</th>\n",
       "      <td>3.86600</td>\n",
       "      <td>-2.6383</td>\n",
       "      <td>1.9242</td>\n",
       "      <td>0.10645</td>\n",
       "      <td>0</td>\n",
       "    </tr>\n",
       "    <tr>\n",
       "      <th>3</th>\n",
       "      <td>3.45660</td>\n",
       "      <td>9.5228</td>\n",
       "      <td>-4.0112</td>\n",
       "      <td>-3.59440</td>\n",
       "      <td>0</td>\n",
       "    </tr>\n",
       "    <tr>\n",
       "      <th>4</th>\n",
       "      <td>0.32924</td>\n",
       "      <td>-4.4552</td>\n",
       "      <td>4.5718</td>\n",
       "      <td>-0.98880</td>\n",
       "      <td>0</td>\n",
       "    </tr>\n",
       "  </tbody>\n",
       "</table>\n",
       "</div>"
      ],
      "text/plain": [
       "   variance  skewness  curtosis  entropy  class\n",
       "0   3.62160    8.6661   -2.8073 -0.44699      0\n",
       "1   4.54590    8.1674   -2.4586 -1.46210      0\n",
       "2   3.86600   -2.6383    1.9242  0.10645      0\n",
       "3   3.45660    9.5228   -4.0112 -3.59440      0\n",
       "4   0.32924   -4.4552    4.5718 -0.98880      0"
      ]
     },
     "execution_count": 4,
     "metadata": {},
     "output_type": "execute_result"
    }
   ],
   "source": [
    "banknote = pd.read_csv('BankNote_Authentication.csv') # read data, remove index column (Not included since the first place)\n",
    "banknote.head() # show first 5 rows"
   ]
  },
  {
   "cell_type": "markdown",
   "id": "3a6978d3-407c-44f7-b476-d9ea0e253007",
   "metadata": {},
   "source": [
    "### b)\n",
    "\n",
    "Explore the data with Python tools to answer the following questions:\n",
    "\n",
    "- Is this a binary or a multi-class classification task?\n",
    "- How many observations and predictors do you have? (The response is not a predictor!)\n",
    "- Is there any missing data?\n",
    "\n",
    "- **(10 points)**"
   ]
  },
  {
   "cell_type": "code",
   "execution_count": 5,
   "id": "7f9b63b9",
   "metadata": {},
   "outputs": [
    {
     "name": "stdout",
     "output_type": "stream",
     "text": [
      "class\n",
      "0    762\n",
      "1    610\n",
      "Name: count, dtype: int64\n",
      "2\n"
     ]
    }
   ],
   "source": [
    "# Check the distribution of target variable\n",
    "print(banknote['class'].value_counts())\n",
    "\n",
    "# Check the number of unique classes\n",
    "print(banknote['class'].nunique())"
   ]
  },
  {
   "cell_type": "markdown",
   "id": "57e15fef",
   "metadata": {},
   "source": [
    "This is binary classification task since there are only two classes of banknotes available."
   ]
  },
  {
   "cell_type": "code",
   "execution_count": 6,
   "id": "2ad75a4c",
   "metadata": {},
   "outputs": [
    {
     "name": "stdout",
     "output_type": "stream",
     "text": [
      "Number of observations: 1372\n",
      "Number of predictors: 4\n"
     ]
    }
   ],
   "source": [
    "# Check the number of observations and predictors\n",
    "observation = banknote.shape[0]\n",
    "predictors = banknote.shape[1] - 1 # exclude target variable\n",
    "print(f'Number of observations: {observation}')\n",
    "print(f'Number of predictors: {predictors}')"
   ]
  },
  {
   "cell_type": "markdown",
   "id": "411724c0",
   "metadata": {},
   "source": [
    "There are 1372 observations and 4 predictors."
   ]
  },
  {
   "cell_type": "code",
   "execution_count": 7,
   "id": "42758510",
   "metadata": {},
   "outputs": [
    {
     "data": {
      "text/plain": [
       "variance    0\n",
       "skewness    0\n",
       "curtosis    0\n",
       "entropy     0\n",
       "class       0\n",
       "dtype: int64"
      ]
     },
     "execution_count": 7,
     "metadata": {},
     "output_type": "execute_result"
    }
   ],
   "source": [
    "# Check the missing data\n",
    "banknote.isnull().sum()"
   ]
  },
  {
   "cell_type": "markdown",
   "id": "158ff930",
   "metadata": {},
   "source": [
    "There is no missing value in this dataset."
   ]
  },
  {
   "cell_type": "markdown",
   "id": "246ba45b-8780-4a00-bc59-8d3eb77ce4dd",
   "metadata": {},
   "source": [
    "### c)\n",
    "\n",
    "Split the data into training and test sets with a 70%-30% ratio. Use `random_state=42` for reproducible results. \n",
    "\n",
    "Note that in order to create the training and test sets, you first need to separate the predictors and the response into two variables, so you can use them as proper inputs.\n",
    "\n",
    "**(10 points)**"
   ]
  },
  {
   "cell_type": "code",
   "execution_count": 8,
   "id": "8820b973",
   "metadata": {},
   "outputs": [],
   "source": [
    "# Use 70 - 30 for train-test split\n",
    "X = banknote.drop(['class'], axis = 1) # Not need target var\n",
    "Y = banknote['class'] # Response variable\n",
    "\n",
    "X_train, X_test, Y_train, Y_test = train_test_split(X, Y, test_size = 0.3, random_state = 42)\n"
   ]
  },
  {
   "cell_type": "markdown",
   "id": "6b74d16d-0f07-455c-a679-3664d76325d0",
   "metadata": {},
   "source": [
    "### d)\n",
    "\n",
    "(Standard) scale the training and test sets. **(15 points)**"
   ]
  },
  {
   "cell_type": "code",
   "execution_count": 9,
   "id": "da8550ab",
   "metadata": {},
   "outputs": [],
   "source": [
    "# Scale the dataset\n",
    "scaler = StandardScaler()\n",
    "# Fit the training dataset with scaler\n",
    "scaler.fit(X_train)\n",
    "# Transform the training dataset\n",
    "X_train = scaler.transform(X_train)\n",
    "# Transform the testing dataset\n",
    "X_test = scaler.transform(X_test)\n",
    "# We will not distort the result of model by scailing the target variable"
   ]
  },
  {
   "cell_type": "markdown",
   "id": "f758c8e8-e3f1-455c-be5a-e47c422c98f1",
   "metadata": {},
   "source": [
    "### e)\n",
    "\n",
    "Create and train a Logistic Regression model. (You are expected to know which set to use to train the model.) Do **not** use any Lasso or Ridge penalty.\n",
    "\n",
    "**(15 points)**"
   ]
  },
  {
   "cell_type": "code",
   "execution_count": 10,
   "id": "748f2551",
   "metadata": {},
   "outputs": [],
   "source": [
    "# Logistic Regression setup, no penalty\n",
    "logistic = LogisticRegression(penalty = None)\n",
    "# Fit the model with dataset\n",
    "logistic.fit(X_train, Y_train)\n",
    "# Fit the model\n",
    "Y_pred = logistic.predict(X_test)"
   ]
  },
  {
   "cell_type": "markdown",
   "id": "c550ac24-c7b1-48c8-a8f0-f3ecf54501d6",
   "metadata": {},
   "source": [
    "### f)\n",
    "\n",
    "Evaluate the model by printing its accuracy, recall and confusion matrix. (You are expected to know which set to use to evaluate the model.) You can assume that the probability threshold is 0.5, which is the default value.\n",
    "\n",
    "**(20 points)**"
   ]
  },
  {
   "cell_type": "code",
   "execution_count": 11,
   "id": "e959c3d2",
   "metadata": {},
   "outputs": [
    {
     "name": "stdout",
     "output_type": "stream",
     "text": [
      "Accuracy: 0.9902912621359223\n",
      "Recall: 0.9890710382513661\n",
      "Confusion Matrix: [[227   2]\n",
      " [  2 181]]\n"
     ]
    }
   ],
   "source": [
    "# Getting the model accuracy, threshold default = 0.5\n",
    "accuracy = accuracy_score(Y_test, Y_pred)\n",
    "print(f'Accuracy: {accuracy}')\n",
    "# recall score\n",
    "recall = recall_score(Y_test, Y_pred)\n",
    "print(f'Recall: {recall}')\n",
    "# confusion matrix\n",
    "confusion_matrix = confusion_matrix(Y_test, Y_pred)\n",
    "print(f'Confusion Matrix: {confusion_matrix}')"
   ]
  },
  {
   "cell_type": "markdown",
   "id": "d2fd8047",
   "metadata": {},
   "source": [
    "The accuracy is 99.03 %."
   ]
  },
  {
   "cell_type": "markdown",
   "id": "295216c1-ebcc-4b71-98b3-84226c2d9671",
   "metadata": {},
   "source": [
    "### g)\n",
    "Did you use any hyperparameters in the classifier? Was there anything to cross-validate in the classifier? **(15 points)**\n"
   ]
  },
  {
   "cell_type": "markdown",
   "id": "207e64c8",
   "metadata": {},
   "source": [
    "We use the default logistic model, so no hyperparameter is applied. Also this regular logis tic model does not need cross validation since we do not have to perform hyperparameter tuning."
   ]
  },
  {
   "cell_type": "markdown",
   "id": "c4dcf24f-7da5-406d-9aa5-91b4be7df738",
   "metadata": {},
   "source": [
    "### 2)\n",
    "\n",
    "In this question, you need to create a user-defined function. It will be part of the Gradient Descent code you will put together next week.\n",
    "\n",
    "Define a function called `initialize`. It should take one scalar numeric input, called `dim`, and return a **(dim + 1) x 1** vector of random numbers. **Note that the output should be a numpy vector.** You do not need to check or account for any invalid inputs.\n",
    "\n",
    "You can use the given test cases to check your function. You need to sample the random numbers from a uniform distribution between 0 and 1 to match the given answers.\n",
    "\n",
    "**(10 points)**"
   ]
  },
  {
   "cell_type": "code",
   "execution_count": 12,
   "id": "31affac0-c3cc-4084-85fa-13b1610b1fb8",
   "metadata": {},
   "outputs": [
    {
     "name": "stdout",
     "output_type": "stream",
     "text": [
      "[0.69646919 0.28613933 0.22685145 0.55131477 0.71946897]\n",
      "[0.42310646 0.9807642  0.68482974]\n",
      "[0.4809319  0.39211752 0.34317802 0.72904971 0.43857224 0.0596779\n",
      " 0.39804426 0.73799541]\n"
     ]
    }
   ],
   "source": [
    "np.random.seed(123)\n",
    "\n",
    "def initialize(dim):\n",
    "    # Create the vector of random numbers v, from uniform dist\n",
    "    v = np.random.rand(dim + 1)\n",
    "    return v\n",
    "\n",
    "# test cases\n",
    "print(initialize(4)) # Should produce [0.69646919 0.28613933 0.22685145 0.55131477 0.71946897]\n",
    "print(initialize(2)) # Should produce [0.42310646 0.9807642  0.68482974]\n",
    "print(initialize(7)) # Should produce [0.4809319  0.39211752 0.34317802 0.72904971 0.43857224 0.0596779 0.39804426 0.73799541]"
   ]
  }
 ],
 "metadata": {
  "kernelspec": {
   "display_name": "base",
   "language": "python",
   "name": "python3"
  },
  "language_info": {
   "codemirror_mode": {
    "name": "ipython",
    "version": 3
   },
   "file_extension": ".py",
   "mimetype": "text/x-python",
   "name": "python",
   "nbconvert_exporter": "python",
   "pygments_lexer": "ipython3",
   "version": "3.11.11"
  }
 },
 "nbformat": 4,
 "nbformat_minor": 5
}
