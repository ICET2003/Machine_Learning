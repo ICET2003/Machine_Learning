{
 "cells": [
  {
   "cell_type": "raw",
   "id": "110bdbb5-cfbb-4d0a-8303-34c637b2e866",
   "metadata": {},
   "source": [
    "---\n",
    "title: \"In-Class Assignment 6\"\n",
    "format: \n",
    "  html:\n",
    "    toc: true\n",
    "    toc-title: Contents\n",
    "    toc-depth: 4\n",
    "    code-fold: show\n",
    "    embed-resources: true\n",
    "    html-math-method: mathml \n",
    "jupyter: python3\n",
    "---"
   ]
  },
  {
   "cell_type": "markdown",
   "id": "99710dd2-2808-434a-a193-914a79926d05",
   "metadata": {},
   "source": [
    "**Instructions:**\n",
    "\n",
    "- For questions that require coding, you need to write the relevant code and display its output. Your output should either be the direct answer to the question or clearly display the answer in it.\n",
    "- For questions that require a written answer (sometimes along with the code), you need to put your answer in a Markdown cell. Writing the answer as a comment or as a print line is not acceptable.\n",
    "- You need to render this file as HTML using Quarto and submit the HTML file. **Please note that this is a requirement and not optional.** A submission cannot be graded until it is properly rendered."
   ]
  },
  {
   "cell_type": "markdown",
   "id": "5f9d3ac5-4a45-41c6-affe-b6c9ae0499ca",
   "metadata": {},
   "source": [
    "Import all the libraries and tools you need below."
   ]
  },
  {
   "cell_type": "code",
   "execution_count": null,
   "id": "33b70dd4-f1c4-4196-ae10-3631c1b76c5d",
   "metadata": {},
   "outputs": [],
   "source": []
  },
  {
   "cell_type": "markdown",
   "id": "a70d26fe-8221-4b90-a300-f2db075cf26e",
   "metadata": {},
   "source": [
    "### 1)\n",
    "\n",
    "Read the data from **X_train.csv**, **y_train.csv**, **X_test.csv**, and **y_test.csv**. The predictors (X's) are rhythmic and timbre features extracted from a number of songs. The responses (y's) are the emotion class labels for each song. **(2.5 points)**"
   ]
  },
  {
   "cell_type": "markdown",
   "id": "a248b908-7e11-45cb-8ac4-e511eb13555c",
   "metadata": {},
   "source": [
    "### 2)\n",
    "\n",
    "Print the first five rows of either `y_train` or `y_test`. You should observe that each observation has multiple class labels and it is possible for an observation to have multiple Class 1 values.\n",
    "\n",
    "**(2.5 points)**"
   ]
  },
  {
   "cell_type": "markdown",
   "id": "9bb499d1-ee01-4285-8ac3-a068e4f7dd99",
   "metadata": {},
   "source": [
    "### 3)\n",
    "\n",
    "Create a [Random Forest Classifier](https://scikit-learn.org/1.6/modules/generated/sklearn.ensemble.RandomForestClassifier.html). Use 500 trees, so that its variance is reduced adequately. Leave all the other hyperparameters default; tuning their values does not change the results substantially. Use `random_state=2` for reproducibility. **(5 points)**"
   ]
  },
  {
   "cell_type": "markdown",
   "id": "56a7b333-22f7-4868-83ad-3acdfa4ebc64",
   "metadata": {},
   "source": [
    "### 4)\n",
    "\n",
    "Train the Random Forest on the multi-label data using the **Binary Relevance** approach. You need to check the [scikit-learn documentation](https://scikit-learn.org/stable/api/sklearn.multioutput.html) for the correct object and its usage.\n",
    "\n",
    "Evaluate the multi-label classifier on the test data, using [Hamming Loss](https://scikit-learn.org/1.5/modules/generated/sklearn.metrics.hamming_loss.html).\n",
    "\n",
    "**(15 points)**"
   ]
  },
  {
   "cell_type": "markdown",
   "id": "55ffaf0c-db26-4d10-bb2b-d552012321e4",
   "metadata": {},
   "source": [
    "### 5)\n",
    "\n",
    "What does the Hamming Loss represent in terms of what the model predicts right/wrong? **(10 points)**"
   ]
  },
  {
   "cell_type": "markdown",
   "id": "8f03ae2b-b7f5-4937-8c97-ccb122a0fb73",
   "metadata": {},
   "source": [
    "### 6)\n",
    "\n",
    "Train the Random Forest on the multi-label data using the **Classifier Chain** approach. Keep all the inputs (other than the base model) default. You may need to refer back to the scikit-learn documentation for the correct object.\n",
    "\n",
    "Evaluate the multi-label classifier on the test data, using Hamming Loss. You should see the same performance as Question 4.\n",
    "\n",
    "**(15 points)**"
   ]
  },
  {
   "cell_type": "markdown",
   "id": "2c48e687-85bb-48a3-977e-d3595a8ed40d",
   "metadata": {},
   "source": [
    "### 7)\n",
    "\n",
    "Using the scikit-learn documentation, answer the following about the multi-label model in Question 6:\n",
    "\n",
    "- Are you using the true or the predicted classes from the previous classifier(s) as the predictors of the next classifier in the chain?\n",
    "- What is the order of class variables that you use for the chain?\n",
    "\n",
    "**(10 points)**"
   ]
  },
  {
   "cell_type": "markdown",
   "id": "536f1998-e56f-4e21-85ec-17abd4b20eb9",
   "metadata": {},
   "source": [
    "### 8)\n",
    "\n",
    "Repeat Question 6, only with `cv=5` as another input to the Classifier Chain. What does this change about the multi-label model?\n",
    "\n",
    "You should see a slightly lower performance. Why is this a more realistic evaluation of the model?\n",
    "\n",
    "**(10 points)**"
   ]
  },
  {
   "cell_type": "markdown",
   "id": "b8e74ca7-1b45-4249-9675-20e1e9cebcaa",
   "metadata": {},
   "source": [
    "### 9)\n",
    "\n",
    "Run the given cell below. It calculates and prints the Variation Inflation Factor (VIF) of each class variable.\n",
    "\n",
    "VIF is a way to aggregate the multi-collinearity each variable has with all the other variables. The higher the VIF value of a variable is, the higher its total correlation is with all the other variables. **Note that having a correlation/multi-collinearity with other variables means carrying some information about other variables.**\n",
    "\n",
    "**(0 points)**"
   ]
  },
  {
   "cell_type": "code",
   "execution_count": null,
   "id": "dd666f0f-0c72-4e2c-8ac1-25f7e718105d",
   "metadata": {},
   "outputs": [],
   "source": [
    "from statsmodels.stats.outliers_influence import variance_inflation_factor\n",
    "from statsmodels.tools.tools import add_constant\n",
    "y = add_constant(y_train)\n",
    "vif_data = pd.DataFrame()\n",
    "vif_data[\"feature\"] = y.columns\n",
    "\n",
    "for i in range(len(y.columns)):\n",
    "    vif_data.loc[i,'VIF'] = variance_inflation_factor(y.values, i)\n",
    "\n",
    "print(vif_data)"
   ]
  },
  {
   "cell_type": "markdown",
   "id": "dc8a6add-81c1-4819-a5e3-91ca4af791c5",
   "metadata": {},
   "source": [
    "### 10)\n",
    "\n",
    "Using the output of Question 9, repeat Question 8, only this time with the **most informative** order of the class variables. (Python starts counting from zero.)\n",
    "\n",
    "You should see the best model performance in this assignment. Why is this the case?\n",
    "\n",
    "**(15 points)**"
   ]
  },
  {
   "cell_type": "markdown",
   "id": "7364b6b6-8e41-4773-8837-e0c83dac8b54",
   "metadata": {},
   "source": [
    "### 11)\n",
    "\n",
    "Finally, using the predictions of the best Classifier Chain (from Question 10), calculate and print the test accuracy of the model **for each emotion**. Which emotions are predicted the most and least accurately?\n",
    "\n",
    "**(15 points)**"
   ]
  }
 ],
 "metadata": {
  "kernelspec": {
   "display_name": "Python 3 (ipykernel)",
   "language": "python",
   "name": "python3"
  },
  "language_info": {
   "codemirror_mode": {
    "name": "ipython",
    "version": 3
   },
   "file_extension": ".py",
   "mimetype": "text/x-python",
   "name": "python",
   "nbconvert_exporter": "python",
   "pygments_lexer": "ipython3",
   "version": "3.11.7"
  }
 },
 "nbformat": 4,
 "nbformat_minor": 5
}
