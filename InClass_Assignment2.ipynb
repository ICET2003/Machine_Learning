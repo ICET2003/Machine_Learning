{
 "cells": [
  {
   "cell_type": "raw",
   "id": "b36e1cab-4054-4e81-9796-50034398f911",
   "metadata": {},
   "source": [
    "---\n",
    "title: \"In-Class Assignment 2\"\n",
    "format: \n",
    "  html:\n",
    "    toc: true\n",
    "    toc-title: Contents\n",
    "    toc-depth: 4\n",
    "    code-fold: show\n",
    "    embed-resources: true\n",
    "    html-math-method: mathml \n",
    "jupyter: python3\n",
    "---"
   ]
  },
  {
   "cell_type": "markdown",
   "id": "fdc45159-405f-4a1c-abdb-1611ec4a86e5",
   "metadata": {},
   "source": [
    "**Instructions:**\n",
    "\n",
    "- For questions that require coding, you need to write the relevant code and display its output. Your output should either be the direct answer to the question or clearly display the answer in it.\n",
    "- For questions that require a written answer (sometimes along with the code), you need to put your answer in a Markdown cell. Writing the answer as a comment or as a print line is not acceptable.\n",
    "- You need to render this file as HTML using Quarto and submit the HTML file. **Please note that this is a requirement and not optional.** A submission cannot be graded until it is properly rendered."
   ]
  },
  {
   "cell_type": "markdown",
   "id": "09a7c174-93da-4ef5-ba9c-80a888a18bce",
   "metadata": {},
   "source": [
    "Import all the libraries and tools you need below."
   ]
  },
  {
   "cell_type": "code",
   "execution_count": 31,
   "id": "4fcd7a67-3018-44c9-af23-8ffaeacb6f5f",
   "metadata": {},
   "outputs": [],
   "source": [
    "import numpy as np\n",
    "import pandas as pd\n",
    "import matplotlib.pyplot as plt\n",
    "\n",
    "from sklearn.linear_model import LinearRegression, LogisticRegression, Ridge, Lasso\n",
    "from sklearn.preprocessing import StandardScaler, MinMaxScaler, RobustScaler, Normalizer\n",
    "from sklearn.model_selection import train_test_split\n",
    "from sklearn.metrics import mean_squared_error, mean_absolute_error, accuracy_score, recall_score, precision_score"
   ]
  },
  {
   "cell_type": "markdown",
   "id": "92e10f73-15f7-4203-8189-b20b98990867",
   "metadata": {},
   "source": [
    "In this assignment, you will write two more functions to implement parts of the Gradient Descent algorithm. All functions will come together in the next In-Class Assignment."
   ]
  },
  {
   "cell_type": "markdown",
   "id": "4f4608c4-b230-48a9-92b4-68fe01ebe63d",
   "metadata": {},
   "source": [
    "### 1)\n",
    "\n",
    "Define a function called `predict`. It should take two inputs: `model_params`, which are the parameters of a Linear Regression model ($w_0, w_1, w_2, ... , w_N$), and `X_test`, which contains the predictors of the test data.\n",
    "\n",
    "The function should return the predicted responses of the Linear Regression model. You do not need to check or account for any invalid inputs.\n",
    "\n",
    "**Note:**\n",
    "\n",
    "- **You are not allowed to use loops/comprehensions.** The implementation should be vectorized.\n",
    "- Make sure you remember the formula of a Linear Regression model.\n",
    "- You can use the given test case to check your function.\n",
    "\n",
    "**(25 points)**"
   ]
  },
  {
   "cell_type": "code",
   "execution_count": 32,
   "id": "c51387bc-385d-4468-b542-758ad75d98f6",
   "metadata": {},
   "outputs": [
    {
     "data": {
      "text/plain": [
       "array([2.77353014, 6.10471802, 9.4359059 ])"
      ]
     },
     "execution_count": 32,
     "metadata": {},
     "output_type": "execute_result"
    }
   ],
   "source": [
    "# Input parameters\n",
    "input_params = np.array([0.42310646, 0.9807642, 0.68482974])\n",
    "# Dataframe\n",
    "toy_data = pd.DataFrame([[1,2],[3,4],[5,6]])\n",
    "# Define a predict function\n",
    "def predict(model_params, X_test):\n",
    "    # Add 1 to toy_data\n",
    "    toy_data_with_intercept = np.c_[np.ones(X_test.shape[0]), X_test]\n",
    "    # Apply dot product to calculate the prediction\n",
    "    prediction = np.dot(toy_data_with_intercept, model_params)\n",
    "    return prediction\n",
    "    \n",
    "predict(input_params, toy_data) # Should produce [2.77353014, 6.10471802, 9.4359059]"
   ]
  },
  {
   "cell_type": "markdown",
   "id": "2efa1316-3a94-4410-93de-f1b8d531c1ab",
   "metadata": {},
   "source": [
    "### 2)\n",
    "\n",
    "Define a function called `calc_cost_gradient`. It should take three inputs: (1) `model_params`, which are the (current) parameters of a Linear Regression model ($w_0, w_1, w_2, ... , w_N$), (2) `X_train` and (3) `y_train`, which contain the training predictors and responses, respectively.\n",
    "\n",
    "The function should return two outputs: (1) `cost`, which is the Mean Squared Error (MSE) cost given the input parameters and the data, and (2) `gradient`, which is the gradient of the MSE cost function ($\\nabla MSE$) at the input parameters.\n",
    "\n",
    "`cost` should be a scalar value. For `gradient`, you have different options, as long as it contains all the partial derivatives: it can be a numpy vector, a list, a dictionary, etc.\n",
    "\n",
    "**Note:** \n",
    "\n",
    "- **You are not allowed to use loops/comprehensions.** The implementation should be vectorized.\n",
    "- You may consider using the `predict` function inside `calculate_cost_gradient` to make it more organized. (This is just a suggestion.)\n",
    "- Make sure you follow the derivation of the gradient from the lecture.\n",
    "- You do not need to check or account for any invalid inputs.\n",
    "- You can use the given test case to check your function.\n",
    "\n",
    "**(75 points)**"
   ]
  },
  {
   "cell_type": "code",
   "execution_count": 33,
   "id": "8a9071c4-8261-47cf-bf5e-7d833a1c9941",
   "metadata": {},
   "outputs": [
    {
     "name": "stdout",
     "output_type": "stream",
     "text": [
      "cost: 600.6332042982854\n",
      "gradient: w0: -47.79056396; w1, w2: (-161.15519086666666, -208.94575482666664) \n"
     ]
    },
    {
     "data": {
      "text/plain": [
       "(600.6332042982854, array([ -47.79056396, -161.15519087, -208.94575483]))"
      ]
     },
     "execution_count": 33,
     "metadata": {},
     "output_type": "execute_result"
    }
   ],
   "source": [
    "toy_model_params = np.array([0.42310646, 0.9807642, 0.68482974])\n",
    "toy_X_train = pd.DataFrame([[1,2],[3,4],[5,6]])\n",
    "toy_y_train = pd.Series([20,30,40])\n",
    "\n",
    "# Define a function\n",
    "def calc_cost_gradient(model_params, X_train, y_train):\n",
    "    # Predict the y value generated through model parameters (y hat)\n",
    "    y_train_prediction = predict(model_params, X_train)\n",
    "    # Force y_train to numpy array\n",
    "    y_train = np.array(y_train)\n",
    "    # Calculate the mean square error\n",
    "    mse_cost_array =((y_train - y_train_prediction) ** 2)/np.size(y_train)\n",
    "    # Sum the error created by each observation\n",
    "    mse_cost = sum(mse_cost_array)\n",
    "    # Next, calculate the gradient\n",
    "    # Add 1 to X_train\n",
    "    X_train_with_intercept = np.c_[np.ones(X_train.shape[0]), X_train]\n",
    "    # Calculate gradient based on in-class derivation\n",
    "    mse_gradient = (y_train - y_train_prediction) @ X_train_with_intercept * (-2/np.size(y_train))\n",
    "    print(f\"cost: {mse_cost}\"), print(f\"gradient: w0: {mse_gradient[0]}; w1, w2: {mse_gradient[1], mse_gradient[2]} \")\n",
    "    return mse_cost, mse_gradient\n",
    "\n",
    "calc_cost_gradient(toy_model_params, toy_X_train, toy_y_train)\n",
    "\n",
    "# Should return\n",
    "    # cost: 600.6332042982852\n",
    "    # gradient: w0: -47.79056396000001; w1,w2: -161.15519087,-208.94575483"
   ]
  },
  {
   "cell_type": "code",
   "execution_count": null,
   "id": "ef10ca6e",
   "metadata": {},
   "outputs": [],
   "source": [
    "#Reserve\n",
    "\n",
    "def GradientDescent(model_params, X_train, y_train, lr, iters):\n",
    "    # Generate an empty list of gradient, params, and mse_cost\n",
    "    param_list = [model_params]\n",
    "    gradient_list = []\n",
    "    mse_cost_list = []\n",
    "    for i in range(0, iters): # Repeat the 3rd and 4th step\n",
    "        # Get the mse_cost and the array of all gradients at the position -1 of array (last)\n",
    "        mse_cost, gradient_array  = calc_cost_gradient(param_list[-1], y_train, X_train) \n",
    "        # put gradient of w0 (of the latest one you just derived) in the gradient list\n",
    "        gradient_list.append(gradient_array)\n",
    "        # Also append the mse_cost in the mse_list\n",
    "        mse_cost_list.append(mse_cost)\n",
    "        # Do the fourth step (Calculate w1 from w0, or the last vector w in your param_list)\n",
    "        new_params =  param_list[-1] - lr * gradient_array\n",
    "        # Put new_params in the list\n",
    "        param_list.append(new_params)\n",
    "    # Put the last mse_cost into the list\n",
    "    last_mse_cost, gradient_array = calc_cost_gradient(param_list[-1], y_train, X_train)\n",
    "    mse_cost_list.append(last_mse_cost)\n",
    "    # Print the lowest mse cost from the list\n",
    "    min_mse = min(mse_cost_list)\n",
    "    print(f\"min_mse: {min_mse}.\")\n",
    "    # Visualize the mse through iterations\n",
    "    x = [i for i in range(iters)]\n",
    "    y = [mse_cost_list[i] for i in range(iters)]\n",
    "    plt.figure(figsize = (10, 6))\n",
    "    plt.plot(x, y)\n",
    "    plt.title(\"mse_cost through number of iterations\")\n",
    "    plt.xlabel(\"Number of iterations\")\n",
    "    plt.ylabel(\"MSE COST\")\n",
    "    plt.grid(True, which = \"both\", linestyle = \"--\")\n",
    "    plt.show()\n",
    "    # Return the last (optimal) params in the param list\n",
    "    model_params = param_list[-1]\n",
    "    return  model_params\n"
   ]
  }
 ],
 "metadata": {
  "kernelspec": {
   "display_name": "base",
   "language": "python",
   "name": "python3"
  },
  "language_info": {
   "codemirror_mode": {
    "name": "ipython",
    "version": 3
   },
   "file_extension": ".py",
   "mimetype": "text/x-python",
   "name": "python",
   "nbconvert_exporter": "python",
   "pygments_lexer": "ipython3",
   "version": "3.11.11"
  }
 },
 "nbformat": 4,
 "nbformat_minor": 5
}
